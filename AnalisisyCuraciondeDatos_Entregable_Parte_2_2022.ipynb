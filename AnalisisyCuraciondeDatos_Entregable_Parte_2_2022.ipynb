{
  "nbformat": 4,
  "nbformat_minor": 0,
  "metadata": {
    "colab": {
      "name": "AnalisisyCuraciondeDatos - Entregable_Parte_2_2022.ipynb",
      "provenance": [],
      "collapsed_sections": []
    },
    "kernelspec": {
      "name": "python3",
      "display_name": "Python 3"
    },
    "language_info": {
      "name": "python"
    }
  },
  "cells": [
    {
      "cell_type": "markdown",
      "metadata": {
        "id": "zO4bRoxr2Apy"
      },
      "source": [
        "**Diplomatura en Ciencia de Datos, Aprendizaje Automático y sus Aplicaciones**\n",
        "\n",
        "**Exploración y Curación de Datos**\n",
        "\n",
        "\n",
        "**Grupo 28** <br>\n",
        "Docente: Laura Montes<br>\n",
        "\n",
        "Integrantes:\n",
        "*   Gustavo Alvarez Lupu\n",
        "*   Laura Hayas\n",
        "*   Maria Emilia Santacruz\n",
        "*   Nicolás Ambrosis\n",
        "\n",
        "\n",
        "----\n",
        "\n",
        "# Trabajo práctico entregable - parte 2\n",
        "\n",
        "\n",
        "En el ejercicio 2 de la parte 1 del entregable seleccionaron las filas y columnas relevantes al problema de predicción de precios de una propiedad e imputaron los valores faltantes de las columnas `Suburb` y las columnas obtenidas a partir del conjunto de datos `airbnb`.\n",
        "\n",
        "En esta notebook, **se utilizará resultado de dichas operaciones.** que fue guardado en un archivo (Ejercicio 3 entregable 1). \n"
      ]
    },
    {
      "cell_type": "code",
      "metadata": {
        "id": "4udjxjk1EtVU"
      },
      "source": [
        "#Importacion de librerias.\n",
        "\n",
        "import matplotlib.pyplot as plt\n",
        "import numpy as np\n",
        "import pandas as pd\n",
        "import io\n",
        "import seaborn\n",
        "seaborn.set_context('talk')"
      ],
      "execution_count": null,
      "outputs": []
    },
    {
      "cell_type": "code",
      "source": [
        "#Se carga el dataframe obtenido en el entregable parte 1.\n",
        "\n",
        "from google.colab import files\n",
        "uploaded = files.upload()\n",
        "\n",
        "\n",
        "# Link al archivo merge_df: \n",
        "# https://drive.google.com/file/d/1avULIDnCbjA3vxfBMfY3Q7A-ct4h7Wzo/view?usp=sharing\n"
      ],
      "metadata": {
        "colab": {
          "resources": {
            "http://localhost:8080/nbextensions/google.colab/files.js": {
              "data": "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",
              "ok": true,
              "headers": [
                [
                  "content-type",
                  "application/javascript"
                ]
              ],
              "status": 200,
              "status_text": ""
            }
          },
          "base_uri": "https://localhost:8080/",
          "height": 73
        },
        "id": "SNfSUOO0diLd",
        "outputId": "25bf547d-3046-46ab-eeb7-cd0db1f43801"
      },
      "execution_count": null,
      "outputs": [
        {
          "output_type": "display_data",
          "data": {
            "text/plain": [
              "<IPython.core.display.HTML object>"
            ],
            "text/html": [
              "\n",
              "     <input type=\"file\" id=\"files-b2f5f9da-cbd1-423e-aa34-0528a821a061\" name=\"files[]\" multiple disabled\n",
              "        style=\"border:none\" />\n",
              "     <output id=\"result-b2f5f9da-cbd1-423e-aa34-0528a821a061\">\n",
              "      Upload widget is only available when the cell has been executed in the\n",
              "      current browser session. Please rerun this cell to enable.\n",
              "      </output>\n",
              "      <script src=\"/nbextensions/google.colab/files.js\"></script> "
            ]
          },
          "metadata": {}
        },
        {
          "output_type": "stream",
          "name": "stdout",
          "text": [
            "Saving merge_df.csv to merge_df (4).csv\n"
          ]
        }
      ]
    },
    {
      "cell_type": "code",
      "source": [
        "#Se lee el archivo csv de la celda anterior.\n",
        "file_key = 'merge_df.csv'\n",
        "df = pd.read_csv(io.StringIO(uploaded[file_key].decode('utf-8')))\n",
        "\n",
        "#Se visualizan las primeras filas del dataframe.\n",
        "df.head()"
      ],
      "metadata": {
        "colab": {
          "base_uri": "https://localhost:8080/",
          "height": 206
        },
        "id": "of2Z5PILdwRl",
        "outputId": "a12d86d8-970d-45ff-eaf8-6aee94ac646a"
      },
      "execution_count": null,
      "outputs": [
        {
          "output_type": "execute_result",
          "data": {
            "text/plain": [
              "       Suburb  Rooms Type      Price  Distance  Postcode  Landsize  \\\n",
              "0  Abbotsford      2    h  1480000.0       2.5    3067.0     202.0   \n",
              "1  Abbotsford      2    h  1035000.0       2.5    3067.0     156.0   \n",
              "2  Abbotsford      3    h  1465000.0       2.5    3067.0     134.0   \n",
              "3  Abbotsford      3    h   850000.0       2.5    3067.0      94.0   \n",
              "4  Abbotsford      4    h  1600000.0       2.5    3067.0     120.0   \n",
              "\n",
              "   BuildingArea  YearBuilt  Propertycount  zipcode       price  \n",
              "0           NaN        NaN         4019.0   3067.0  130.624031  \n",
              "1          79.0     1900.0         4019.0   3067.0  130.624031  \n",
              "2         150.0     1900.0         4019.0   3067.0  130.624031  \n",
              "3           NaN        NaN         4019.0   3067.0  130.624031  \n",
              "4         142.0     2014.0         4019.0   3067.0  130.624031  "
            ],
            "text/html": [
              "\n",
              "  <div id=\"df-ed35740e-5483-4ea4-bd41-39d92982b940\">\n",
              "    <div class=\"colab-df-container\">\n",
              "      <div>\n",
              "<style scoped>\n",
              "    .dataframe tbody tr th:only-of-type {\n",
              "        vertical-align: middle;\n",
              "    }\n",
              "\n",
              "    .dataframe tbody tr th {\n",
              "        vertical-align: top;\n",
              "    }\n",
              "\n",
              "    .dataframe thead th {\n",
              "        text-align: right;\n",
              "    }\n",
              "</style>\n",
              "<table border=\"1\" class=\"dataframe\">\n",
              "  <thead>\n",
              "    <tr style=\"text-align: right;\">\n",
              "      <th></th>\n",
              "      <th>Suburb</th>\n",
              "      <th>Rooms</th>\n",
              "      <th>Type</th>\n",
              "      <th>Price</th>\n",
              "      <th>Distance</th>\n",
              "      <th>Postcode</th>\n",
              "      <th>Landsize</th>\n",
              "      <th>BuildingArea</th>\n",
              "      <th>YearBuilt</th>\n",
              "      <th>Propertycount</th>\n",
              "      <th>zipcode</th>\n",
              "      <th>price</th>\n",
              "    </tr>\n",
              "  </thead>\n",
              "  <tbody>\n",
              "    <tr>\n",
              "      <th>0</th>\n",
              "      <td>Abbotsford</td>\n",
              "      <td>2</td>\n",
              "      <td>h</td>\n",
              "      <td>1480000.0</td>\n",
              "      <td>2.5</td>\n",
              "      <td>3067.0</td>\n",
              "      <td>202.0</td>\n",
              "      <td>NaN</td>\n",
              "      <td>NaN</td>\n",
              "      <td>4019.0</td>\n",
              "      <td>3067.0</td>\n",
              "      <td>130.624031</td>\n",
              "    </tr>\n",
              "    <tr>\n",
              "      <th>1</th>\n",
              "      <td>Abbotsford</td>\n",
              "      <td>2</td>\n",
              "      <td>h</td>\n",
              "      <td>1035000.0</td>\n",
              "      <td>2.5</td>\n",
              "      <td>3067.0</td>\n",
              "      <td>156.0</td>\n",
              "      <td>79.0</td>\n",
              "      <td>1900.0</td>\n",
              "      <td>4019.0</td>\n",
              "      <td>3067.0</td>\n",
              "      <td>130.624031</td>\n",
              "    </tr>\n",
              "    <tr>\n",
              "      <th>2</th>\n",
              "      <td>Abbotsford</td>\n",
              "      <td>3</td>\n",
              "      <td>h</td>\n",
              "      <td>1465000.0</td>\n",
              "      <td>2.5</td>\n",
              "      <td>3067.0</td>\n",
              "      <td>134.0</td>\n",
              "      <td>150.0</td>\n",
              "      <td>1900.0</td>\n",
              "      <td>4019.0</td>\n",
              "      <td>3067.0</td>\n",
              "      <td>130.624031</td>\n",
              "    </tr>\n",
              "    <tr>\n",
              "      <th>3</th>\n",
              "      <td>Abbotsford</td>\n",
              "      <td>3</td>\n",
              "      <td>h</td>\n",
              "      <td>850000.0</td>\n",
              "      <td>2.5</td>\n",
              "      <td>3067.0</td>\n",
              "      <td>94.0</td>\n",
              "      <td>NaN</td>\n",
              "      <td>NaN</td>\n",
              "      <td>4019.0</td>\n",
              "      <td>3067.0</td>\n",
              "      <td>130.624031</td>\n",
              "    </tr>\n",
              "    <tr>\n",
              "      <th>4</th>\n",
              "      <td>Abbotsford</td>\n",
              "      <td>4</td>\n",
              "      <td>h</td>\n",
              "      <td>1600000.0</td>\n",
              "      <td>2.5</td>\n",
              "      <td>3067.0</td>\n",
              "      <td>120.0</td>\n",
              "      <td>142.0</td>\n",
              "      <td>2014.0</td>\n",
              "      <td>4019.0</td>\n",
              "      <td>3067.0</td>\n",
              "      <td>130.624031</td>\n",
              "    </tr>\n",
              "  </tbody>\n",
              "</table>\n",
              "</div>\n",
              "      <button class=\"colab-df-convert\" onclick=\"convertToInteractive('df-ed35740e-5483-4ea4-bd41-39d92982b940')\"\n",
              "              title=\"Convert this dataframe to an interactive table.\"\n",
              "              style=\"display:none;\">\n",
              "        \n",
              "  <svg xmlns=\"http://www.w3.org/2000/svg\" height=\"24px\"viewBox=\"0 0 24 24\"\n",
              "       width=\"24px\">\n",
              "    <path d=\"M0 0h24v24H0V0z\" fill=\"none\"/>\n",
              "    <path d=\"M18.56 5.44l.94 2.06.94-2.06 2.06-.94-2.06-.94-.94-2.06-.94 2.06-2.06.94zm-11 1L8.5 8.5l.94-2.06 2.06-.94-2.06-.94L8.5 2.5l-.94 2.06-2.06.94zm10 10l.94 2.06.94-2.06 2.06-.94-2.06-.94-.94-2.06-.94 2.06-2.06.94z\"/><path d=\"M17.41 7.96l-1.37-1.37c-.4-.4-.92-.59-1.43-.59-.52 0-1.04.2-1.43.59L10.3 9.45l-7.72 7.72c-.78.78-.78 2.05 0 2.83L4 21.41c.39.39.9.59 1.41.59.51 0 1.02-.2 1.41-.59l7.78-7.78 2.81-2.81c.8-.78.8-2.07 0-2.86zM5.41 20L4 18.59l7.72-7.72 1.47 1.35L5.41 20z\"/>\n",
              "  </svg>\n",
              "      </button>\n",
              "      \n",
              "  <style>\n",
              "    .colab-df-container {\n",
              "      display:flex;\n",
              "      flex-wrap:wrap;\n",
              "      gap: 12px;\n",
              "    }\n",
              "\n",
              "    .colab-df-convert {\n",
              "      background-color: #E8F0FE;\n",
              "      border: none;\n",
              "      border-radius: 50%;\n",
              "      cursor: pointer;\n",
              "      display: none;\n",
              "      fill: #1967D2;\n",
              "      height: 32px;\n",
              "      padding: 0 0 0 0;\n",
              "      width: 32px;\n",
              "    }\n",
              "\n",
              "    .colab-df-convert:hover {\n",
              "      background-color: #E2EBFA;\n",
              "      box-shadow: 0px 1px 2px rgba(60, 64, 67, 0.3), 0px 1px 3px 1px rgba(60, 64, 67, 0.15);\n",
              "      fill: #174EA6;\n",
              "    }\n",
              "\n",
              "    [theme=dark] .colab-df-convert {\n",
              "      background-color: #3B4455;\n",
              "      fill: #D2E3FC;\n",
              "    }\n",
              "\n",
              "    [theme=dark] .colab-df-convert:hover {\n",
              "      background-color: #434B5C;\n",
              "      box-shadow: 0px 1px 3px 1px rgba(0, 0, 0, 0.15);\n",
              "      filter: drop-shadow(0px 1px 2px rgba(0, 0, 0, 0.3));\n",
              "      fill: #FFFFFF;\n",
              "    }\n",
              "  </style>\n",
              "\n",
              "      <script>\n",
              "        const buttonEl =\n",
              "          document.querySelector('#df-ed35740e-5483-4ea4-bd41-39d92982b940 button.colab-df-convert');\n",
              "        buttonEl.style.display =\n",
              "          google.colab.kernel.accessAllowed ? 'block' : 'none';\n",
              "\n",
              "        async function convertToInteractive(key) {\n",
              "          const element = document.querySelector('#df-ed35740e-5483-4ea4-bd41-39d92982b940');\n",
              "          const dataTable =\n",
              "            await google.colab.kernel.invokeFunction('convertToInteractive',\n",
              "                                                     [key], {});\n",
              "          if (!dataTable) return;\n",
              "\n",
              "          const docLinkHtml = 'Like what you see? Visit the ' +\n",
              "            '<a target=\"_blank\" href=https://colab.research.google.com/notebooks/data_table.ipynb>data table notebook</a>'\n",
              "            + ' to learn more about interactive tables.';\n",
              "          element.innerHTML = '';\n",
              "          dataTable['output_type'] = 'display_data';\n",
              "          await google.colab.output.renderOutput(dataTable, element);\n",
              "          const docLink = document.createElement('div');\n",
              "          docLink.innerHTML = docLinkHtml;\n",
              "          element.appendChild(docLink);\n",
              "        }\n",
              "      </script>\n",
              "    </div>\n",
              "  </div>\n",
              "  "
            ]
          },
          "metadata": {},
          "execution_count": 182
        }
      ]
    },
    {
      "cell_type": "markdown",
      "metadata": {
        "id": "s-mixICN22kA"
      },
      "source": [
        "## Ejercicio 1: Encoding\n",
        "\n",
        "1. Seleccionar todas las filas y columnas del conjunto de datos obtenido en la parte 1 del entregable, **excepto** `BuildingArea` y `YearBuilt`, que volveremos a imputar más adelante.\n",
        "\n",
        "2. Aplicar una codificación One-hot encoding a cada fila para variables categóricas. Si lo consideran necesario, pueden volver a reducir el número de categorías únicas.\n",
        "\n",
        "Algunas opciones:\n",
        "  1. Utilizar `OneHotEncoder` junto con el parámetro `categories` para las variables categóricas y luego usar `numpy.hstack` para concatenar el resultado con las variables numéricas. \n",
        "  2. `DictVectorizer` con algunos pasos de pre-proceso previo.\n",
        "\n",
        "Recordar también que el atributo `pandas.DataFrame.values` permite acceder a la matriz de numpy subyacente a un DataFrame.\n"
      ]
    },
    {
      "cell_type": "code",
      "source": [
        "#Se realiza una copia del dataframe y en la copia se eliminan las columnas:\n",
        "# BuildingArea, YearBuilt, zipcode, price.\n",
        "\n",
        "df_2 = df.copy()\n",
        "df_2 = df_2.drop(columns = ['BuildingArea', 'YearBuilt','zipcode','price'])\n",
        "\n",
        "\n",
        "#Con la funcion shape se comprueba que se hayan eliminado las 4 columnas.\n",
        "df.shape, df_2.shape"
      ],
      "metadata": {
        "colab": {
          "base_uri": "https://localhost:8080/"
        },
        "id": "Qyq39wnSgaDm",
        "outputId": "ee903f66-7526-4a9e-c85f-e468321effa0"
      },
      "execution_count": null,
      "outputs": [
        {
          "output_type": "execute_result",
          "data": {
            "text/plain": [
              "((13580, 12), (13580, 8))"
            ]
          },
          "metadata": {},
          "execution_count": 183
        }
      ]
    },
    {
      "cell_type": "code",
      "source": [
        "#Se visualizan los tipos de datos de las columnas del dataframe.\n",
        "df_2.dtypes"
      ],
      "metadata": {
        "colab": {
          "base_uri": "https://localhost:8080/"
        },
        "id": "kHCu1yLulG_x",
        "outputId": "587af8c5-11c3-4b07-edf7-65c85ce8cb7f"
      },
      "execution_count": null,
      "outputs": [
        {
          "output_type": "execute_result",
          "data": {
            "text/plain": [
              "Suburb            object\n",
              "Rooms              int64\n",
              "Type              object\n",
              "Price            float64\n",
              "Distance         float64\n",
              "Postcode         float64\n",
              "Landsize         float64\n",
              "Propertycount    float64\n",
              "dtype: object"
            ]
          },
          "metadata": {},
          "execution_count": 184
        }
      ]
    },
    {
      "cell_type": "code",
      "source": [
        "#Se convierte el tipo de dato de la columna en object, ya que se considera que Postcode es una variable categorica.\n",
        "df_2['Postcode'] = df_2.Postcode.astype('str')"
      ],
      "metadata": {
        "id": "f0NcTWsxo1v6"
      },
      "execution_count": null,
      "outputs": []
    },
    {
      "cell_type": "code",
      "source": [
        "#Se comprueba que se haya realizado el cambio correctamente.\n",
        "df_2.Postcode.dtypes"
      ],
      "metadata": {
        "colab": {
          "base_uri": "https://localhost:8080/"
        },
        "id": "3QeFQqw5pKm8",
        "outputId": "20553c2a-3121-47e4-8882-7a00348d1767"
      },
      "execution_count": null,
      "outputs": [
        {
          "output_type": "execute_result",
          "data": {
            "text/plain": [
              "dtype('O')"
            ]
          },
          "metadata": {},
          "execution_count": 186
        }
      ]
    },
    {
      "cell_type": "code",
      "source": [
        "#Visualizacion de las variables categoricas\n",
        "df_2.select_dtypes(include=object, exclude=None).columns"
      ],
      "metadata": {
        "colab": {
          "base_uri": "https://localhost:8080/"
        },
        "id": "HmxdLKQgj6f1",
        "outputId": "4347737d-5f77-434a-d8d8-61181602bb38"
      },
      "execution_count": null,
      "outputs": [
        {
          "output_type": "execute_result",
          "data": {
            "text/plain": [
              "Index(['Suburb', 'Type', 'Postcode'], dtype='object')"
            ]
          },
          "metadata": {},
          "execution_count": 187
        }
      ]
    },
    {
      "cell_type": "code",
      "source": [
        "#Visualizacion de todas las columnas del dataframe.\n",
        "df_2.columns"
      ],
      "metadata": {
        "colab": {
          "base_uri": "https://localhost:8080/"
        },
        "id": "HpotkNpulGB5",
        "outputId": "d73ac9ff-5118-4ddd-d735-5a72f1bfcdbb"
      },
      "execution_count": null,
      "outputs": [
        {
          "output_type": "execute_result",
          "data": {
            "text/plain": [
              "Index(['Suburb', 'Rooms', 'Type', 'Price', 'Distance', 'Postcode', 'Landsize',\n",
              "       'Propertycount'],\n",
              "      dtype='object')"
            ]
          },
          "metadata": {},
          "execution_count": 188
        }
      ]
    },
    {
      "cell_type": "code",
      "source": [
        "#Se convierte el dataframe en un diccionario.\n",
        "\n",
        "dictionary = list(df_2.T.to_dict().values())\n",
        "dictionary[:2]"
      ],
      "metadata": {
        "colab": {
          "base_uri": "https://localhost:8080/"
        },
        "id": "TR9LDcoJqMhi",
        "outputId": "c525a3b4-1eb1-4d30-a09a-647d3f5daf90"
      },
      "execution_count": null,
      "outputs": [
        {
          "output_type": "execute_result",
          "data": {
            "text/plain": [
              "[{'Distance': 2.5,\n",
              "  'Landsize': 202.0,\n",
              "  'Postcode': '3067.0',\n",
              "  'Price': 1480000.0,\n",
              "  'Propertycount': 4019.0,\n",
              "  'Rooms': 2,\n",
              "  'Suburb': 'Abbotsford',\n",
              "  'Type': 'h'},\n",
              " {'Distance': 2.5,\n",
              "  'Landsize': 156.0,\n",
              "  'Postcode': '3067.0',\n",
              "  'Price': 1035000.0,\n",
              "  'Propertycount': 4019.0,\n",
              "  'Rooms': 2,\n",
              "  'Suburb': 'Abbotsford',\n",
              "  'Type': 'h'}]"
            ]
          },
          "metadata": {},
          "execution_count": 189
        }
      ]
    },
    {
      "cell_type": "code",
      "source": [
        "#Se realiza el encoding del dataframe convertido en diccionario utilizando la clase DictVectorizer.\n",
        "\n",
        "from sklearn.feature_extraction import DictVectorizer\n",
        "\n",
        "vec = DictVectorizer(sparse=False)\n",
        "\n",
        "#Se obtiene una matriz.\n",
        "feature_matrix = vec.fit_transform(dictionary)\n"
      ],
      "metadata": {
        "id": "tHUhmEZpj6Rh"
      },
      "execution_count": null,
      "outputs": []
    },
    {
      "cell_type": "code",
      "source": [
        "#Se visualiza la dimension de la matriz obtenida.\n",
        "np.shape(feature_matrix)"
      ],
      "metadata": {
        "colab": {
          "base_uri": "https://localhost:8080/"
        },
        "id": "qZ96lVO5v3IJ",
        "outputId": "f21c7eff-3b3f-43e3-c647-3d185e670011"
      },
      "execution_count": null,
      "outputs": [
        {
          "output_type": "execute_result",
          "data": {
            "text/plain": [
              "(13580, 520)"
            ]
          },
          "metadata": {},
          "execution_count": 191
        }
      ]
    },
    {
      "cell_type": "code",
      "source": [
        "#Visualizacion de la matriz.\n",
        "feature_matrix"
      ],
      "metadata": {
        "colab": {
          "base_uri": "https://localhost:8080/"
        },
        "id": "zOZpMiVJpKE0",
        "outputId": "fddd4fc6-fc35-4f75-d509-fee503826001"
      },
      "execution_count": null,
      "outputs": [
        {
          "output_type": "execute_result",
          "data": {
            "text/plain": [
              "array([[  2.5, 202. ,   0. , ...,   1. ,   0. ,   0. ],\n",
              "       [  2.5, 156. ,   0. , ...,   1. ,   0. ,   0. ],\n",
              "       [  2.5, 134. ,   0. , ...,   1. ,   0. ,   0. ],\n",
              "       ...,\n",
              "       [  6.8, 436. ,   0. , ...,   1. ,   0. ,   0. ],\n",
              "       [  6.8, 866. ,   0. , ...,   1. ,   0. ,   0. ],\n",
              "       [  6.3, 362. ,   0. , ...,   1. ,   0. ,   0. ]])"
            ]
          },
          "metadata": {},
          "execution_count": 192
        }
      ]
    },
    {
      "cell_type": "code",
      "source": [
        "#Visualizacion de las features de la matriz.\n",
        "vec.get_feature_names()"
      ],
      "metadata": {
        "colab": {
          "base_uri": "https://localhost:8080/"
        },
        "id": "YaLKsxYXkqGt",
        "outputId": "5978d7cb-2672-4600-f0d8-1563d756c3b7"
      },
      "execution_count": null,
      "outputs": [
        {
          "output_type": "stream",
          "name": "stderr",
          "text": [
            "/usr/local/lib/python3.7/dist-packages/sklearn/utils/deprecation.py:87: FutureWarning: Function get_feature_names is deprecated; get_feature_names is deprecated in 1.0 and will be removed in 1.2. Please use get_feature_names_out instead.\n",
            "  warnings.warn(msg, category=FutureWarning)\n"
          ]
        },
        {
          "output_type": "execute_result",
          "data": {
            "text/plain": [
              "['Distance',\n",
              " 'Landsize',\n",
              " 'Postcode=3000.0',\n",
              " 'Postcode=3002.0',\n",
              " 'Postcode=3003.0',\n",
              " 'Postcode=3006.0',\n",
              " 'Postcode=3008.0',\n",
              " 'Postcode=3011.0',\n",
              " 'Postcode=3012.0',\n",
              " 'Postcode=3013.0',\n",
              " 'Postcode=3015.0',\n",
              " 'Postcode=3016.0',\n",
              " 'Postcode=3018.0',\n",
              " 'Postcode=3019.0',\n",
              " 'Postcode=3020.0',\n",
              " 'Postcode=3021.0',\n",
              " 'Postcode=3022.0',\n",
              " 'Postcode=3023.0',\n",
              " 'Postcode=3024.0',\n",
              " 'Postcode=3025.0',\n",
              " 'Postcode=3027.0',\n",
              " 'Postcode=3028.0',\n",
              " 'Postcode=3029.0',\n",
              " 'Postcode=3030.0',\n",
              " 'Postcode=3031.0',\n",
              " 'Postcode=3032.0',\n",
              " 'Postcode=3033.0',\n",
              " 'Postcode=3034.0',\n",
              " 'Postcode=3036.0',\n",
              " 'Postcode=3037.0',\n",
              " 'Postcode=3038.0',\n",
              " 'Postcode=3039.0',\n",
              " 'Postcode=3040.0',\n",
              " 'Postcode=3041.0',\n",
              " 'Postcode=3042.0',\n",
              " 'Postcode=3043.0',\n",
              " 'Postcode=3044.0',\n",
              " 'Postcode=3046.0',\n",
              " 'Postcode=3047.0',\n",
              " 'Postcode=3048.0',\n",
              " 'Postcode=3049.0',\n",
              " 'Postcode=3051.0',\n",
              " 'Postcode=3052.0',\n",
              " 'Postcode=3053.0',\n",
              " 'Postcode=3054.0',\n",
              " 'Postcode=3055.0',\n",
              " 'Postcode=3056.0',\n",
              " 'Postcode=3057.0',\n",
              " 'Postcode=3058.0',\n",
              " 'Postcode=3059.0',\n",
              " 'Postcode=3060.0',\n",
              " 'Postcode=3061.0',\n",
              " 'Postcode=3064.0',\n",
              " 'Postcode=3065.0',\n",
              " 'Postcode=3066.0',\n",
              " 'Postcode=3067.0',\n",
              " 'Postcode=3068.0',\n",
              " 'Postcode=3070.0',\n",
              " 'Postcode=3071.0',\n",
              " 'Postcode=3072.0',\n",
              " 'Postcode=3073.0',\n",
              " 'Postcode=3074.0',\n",
              " 'Postcode=3075.0',\n",
              " 'Postcode=3076.0',\n",
              " 'Postcode=3078.0',\n",
              " 'Postcode=3079.0',\n",
              " 'Postcode=3081.0',\n",
              " 'Postcode=3082.0',\n",
              " 'Postcode=3083.0',\n",
              " 'Postcode=3084.0',\n",
              " 'Postcode=3085.0',\n",
              " 'Postcode=3087.0',\n",
              " 'Postcode=3088.0',\n",
              " 'Postcode=3089.0',\n",
              " 'Postcode=3093.0',\n",
              " 'Postcode=3094.0',\n",
              " 'Postcode=3095.0',\n",
              " 'Postcode=3099.0',\n",
              " 'Postcode=3101.0',\n",
              " 'Postcode=3102.0',\n",
              " 'Postcode=3103.0',\n",
              " 'Postcode=3104.0',\n",
              " 'Postcode=3105.0',\n",
              " 'Postcode=3106.0',\n",
              " 'Postcode=3107.0',\n",
              " 'Postcode=3108.0',\n",
              " 'Postcode=3109.0',\n",
              " 'Postcode=3111.0',\n",
              " 'Postcode=3113.0',\n",
              " 'Postcode=3115.0',\n",
              " 'Postcode=3116.0',\n",
              " 'Postcode=3121.0',\n",
              " 'Postcode=3122.0',\n",
              " 'Postcode=3123.0',\n",
              " 'Postcode=3124.0',\n",
              " 'Postcode=3125.0',\n",
              " 'Postcode=3126.0',\n",
              " 'Postcode=3127.0',\n",
              " 'Postcode=3128.0',\n",
              " 'Postcode=3130.0',\n",
              " 'Postcode=3131.0',\n",
              " 'Postcode=3132.0',\n",
              " 'Postcode=3133.0',\n",
              " 'Postcode=3134.0',\n",
              " 'Postcode=3135.0',\n",
              " 'Postcode=3136.0',\n",
              " 'Postcode=3137.0',\n",
              " 'Postcode=3138.0',\n",
              " 'Postcode=3141.0',\n",
              " 'Postcode=3142.0',\n",
              " 'Postcode=3143.0',\n",
              " 'Postcode=3144.0',\n",
              " 'Postcode=3145.0',\n",
              " 'Postcode=3146.0',\n",
              " 'Postcode=3147.0',\n",
              " 'Postcode=3148.0',\n",
              " 'Postcode=3149.0',\n",
              " 'Postcode=3150.0',\n",
              " 'Postcode=3151.0',\n",
              " 'Postcode=3152.0',\n",
              " 'Postcode=3153.0',\n",
              " 'Postcode=3154.0',\n",
              " 'Postcode=3155.0',\n",
              " 'Postcode=3156.0',\n",
              " 'Postcode=3158.0',\n",
              " 'Postcode=3161.0',\n",
              " 'Postcode=3162.0',\n",
              " 'Postcode=3163.0',\n",
              " 'Postcode=3165.0',\n",
              " 'Postcode=3166.0',\n",
              " 'Postcode=3167.0',\n",
              " 'Postcode=3168.0',\n",
              " 'Postcode=3169.0',\n",
              " 'Postcode=3170.0',\n",
              " 'Postcode=3171.0',\n",
              " 'Postcode=3172.0',\n",
              " 'Postcode=3173.0',\n",
              " 'Postcode=3174.0',\n",
              " 'Postcode=3175.0',\n",
              " 'Postcode=3177.0',\n",
              " 'Postcode=3178.0',\n",
              " 'Postcode=3179.0',\n",
              " 'Postcode=3180.0',\n",
              " 'Postcode=3181.0',\n",
              " 'Postcode=3182.0',\n",
              " 'Postcode=3183.0',\n",
              " 'Postcode=3184.0',\n",
              " 'Postcode=3185.0',\n",
              " 'Postcode=3186.0',\n",
              " 'Postcode=3187.0',\n",
              " 'Postcode=3188.0',\n",
              " 'Postcode=3189.0',\n",
              " 'Postcode=3190.0',\n",
              " 'Postcode=3191.0',\n",
              " 'Postcode=3192.0',\n",
              " 'Postcode=3193.0',\n",
              " 'Postcode=3194.0',\n",
              " 'Postcode=3195.0',\n",
              " 'Postcode=3196.0',\n",
              " 'Postcode=3197.0',\n",
              " 'Postcode=3198.0',\n",
              " 'Postcode=3199.0',\n",
              " 'Postcode=3200.0',\n",
              " 'Postcode=3201.0',\n",
              " 'Postcode=3204.0',\n",
              " 'Postcode=3205.0',\n",
              " 'Postcode=3206.0',\n",
              " 'Postcode=3207.0',\n",
              " 'Postcode=3335.0',\n",
              " 'Postcode=3337.0',\n",
              " 'Postcode=3338.0',\n",
              " 'Postcode=3340.0',\n",
              " 'Postcode=3427.0',\n",
              " 'Postcode=3429.0',\n",
              " 'Postcode=3431.0',\n",
              " 'Postcode=3437.0',\n",
              " 'Postcode=3438.0',\n",
              " 'Postcode=3750.0',\n",
              " 'Postcode=3752.0',\n",
              " 'Postcode=3754.0',\n",
              " 'Postcode=3756.0',\n",
              " 'Postcode=3757.0',\n",
              " 'Postcode=3765.0',\n",
              " 'Postcode=3775.0',\n",
              " 'Postcode=3777.0',\n",
              " 'Postcode=3782.0',\n",
              " 'Postcode=3793.0',\n",
              " 'Postcode=3795.0',\n",
              " 'Postcode=3796.0',\n",
              " 'Postcode=3802.0',\n",
              " 'Postcode=3803.0',\n",
              " 'Postcode=3805.0',\n",
              " 'Postcode=3806.0',\n",
              " 'Postcode=3807.0',\n",
              " 'Postcode=3808.0',\n",
              " 'Postcode=3809.0',\n",
              " 'Postcode=3810.0',\n",
              " 'Postcode=3910.0',\n",
              " 'Postcode=3976.0',\n",
              " 'Postcode=3977.0',\n",
              " 'Price',\n",
              " 'Propertycount',\n",
              " 'Rooms',\n",
              " 'Suburb=Abbotsford',\n",
              " 'Suburb=Aberfeldie',\n",
              " 'Suburb=Airport West',\n",
              " 'Suburb=Albanvale',\n",
              " 'Suburb=Albert Park',\n",
              " 'Suburb=Albion',\n",
              " 'Suburb=Alphington',\n",
              " 'Suburb=Altona',\n",
              " 'Suburb=Altona Meadows',\n",
              " 'Suburb=Altona North',\n",
              " 'Suburb=Ardeer',\n",
              " 'Suburb=Armadale',\n",
              " 'Suburb=Ascot Vale',\n",
              " 'Suburb=Ashburton',\n",
              " 'Suburb=Ashwood',\n",
              " 'Suburb=Aspendale',\n",
              " 'Suburb=Aspendale Gardens',\n",
              " 'Suburb=Attwood',\n",
              " 'Suburb=Avondale Heights',\n",
              " 'Suburb=Bacchus Marsh',\n",
              " 'Suburb=Balaclava',\n",
              " 'Suburb=Balwyn',\n",
              " 'Suburb=Balwyn North',\n",
              " 'Suburb=Bayswater',\n",
              " 'Suburb=Bayswater North',\n",
              " 'Suburb=Beaconsfield',\n",
              " 'Suburb=Beaconsfield Upper',\n",
              " 'Suburb=Beaumaris',\n",
              " 'Suburb=Bellfield',\n",
              " 'Suburb=Bentleigh',\n",
              " 'Suburb=Bentleigh East',\n",
              " 'Suburb=Berwick',\n",
              " 'Suburb=Black Rock',\n",
              " 'Suburb=Blackburn',\n",
              " 'Suburb=Blackburn North',\n",
              " 'Suburb=Blackburn South',\n",
              " 'Suburb=Bonbeach',\n",
              " 'Suburb=Boronia',\n",
              " 'Suburb=Box Hill',\n",
              " 'Suburb=Braybrook',\n",
              " 'Suburb=Briar Hill',\n",
              " 'Suburb=Brighton',\n",
              " 'Suburb=Brighton East',\n",
              " 'Suburb=Broadmeadows',\n",
              " 'Suburb=Brookfield',\n",
              " 'Suburb=Brooklyn',\n",
              " 'Suburb=Brunswick',\n",
              " 'Suburb=Brunswick East',\n",
              " 'Suburb=Brunswick West',\n",
              " 'Suburb=Bulleen',\n",
              " 'Suburb=Bullengarook',\n",
              " 'Suburb=Bundoora',\n",
              " 'Suburb=Burnley',\n",
              " 'Suburb=Burnside',\n",
              " 'Suburb=Burnside Heights',\n",
              " 'Suburb=Burwood',\n",
              " 'Suburb=Burwood East',\n",
              " 'Suburb=Cairnlea',\n",
              " 'Suburb=Camberwell',\n",
              " 'Suburb=Campbellfield',\n",
              " 'Suburb=Canterbury',\n",
              " 'Suburb=Carlton',\n",
              " 'Suburb=Carlton North',\n",
              " 'Suburb=Carnegie',\n",
              " 'Suburb=Caroline Springs',\n",
              " 'Suburb=Carrum',\n",
              " 'Suburb=Carrum Downs',\n",
              " 'Suburb=Caulfield',\n",
              " 'Suburb=Caulfield East',\n",
              " 'Suburb=Caulfield North',\n",
              " 'Suburb=Caulfield South',\n",
              " 'Suburb=Chadstone',\n",
              " 'Suburb=Chelsea',\n",
              " 'Suburb=Chelsea Heights',\n",
              " 'Suburb=Cheltenham',\n",
              " 'Suburb=Chirnside Park',\n",
              " 'Suburb=Clarinda',\n",
              " 'Suburb=Clayton',\n",
              " 'Suburb=Clayton South',\n",
              " 'Suburb=Clifton Hill',\n",
              " 'Suburb=Coburg',\n",
              " 'Suburb=Coburg North',\n",
              " 'Suburb=Collingwood',\n",
              " 'Suburb=Coolaroo',\n",
              " 'Suburb=Craigieburn',\n",
              " 'Suburb=Cranbourne',\n",
              " 'Suburb=Cranbourne North',\n",
              " 'Suburb=Cremorne',\n",
              " 'Suburb=Croydon',\n",
              " 'Suburb=Croydon Hills',\n",
              " 'Suburb=Croydon North',\n",
              " 'Suburb=Croydon South',\n",
              " 'Suburb=Dallas',\n",
              " 'Suburb=Dandenong',\n",
              " 'Suburb=Dandenong North',\n",
              " 'Suburb=Deepdene',\n",
              " 'Suburb=Deer Park',\n",
              " 'Suburb=Delahey',\n",
              " 'Suburb=Derrimut',\n",
              " 'Suburb=Diamond Creek',\n",
              " 'Suburb=Diggers Rest',\n",
              " 'Suburb=Dingley Village',\n",
              " 'Suburb=Docklands',\n",
              " 'Suburb=Doncaster',\n",
              " 'Suburb=Doncaster East',\n",
              " 'Suburb=Donvale',\n",
              " 'Suburb=Doreen',\n",
              " 'Suburb=Doveton',\n",
              " 'Suburb=Eaglemont',\n",
              " 'Suburb=East Melbourne',\n",
              " 'Suburb=Edithvale',\n",
              " 'Suburb=Elsternwick',\n",
              " 'Suburb=Eltham',\n",
              " 'Suburb=Eltham North',\n",
              " 'Suburb=Elwood',\n",
              " 'Suburb=Emerald',\n",
              " 'Suburb=Endeavour Hills',\n",
              " 'Suburb=Epping',\n",
              " 'Suburb=Essendon',\n",
              " 'Suburb=Essendon North',\n",
              " 'Suburb=Essendon West',\n",
              " 'Suburb=Fairfield',\n",
              " 'Suburb=Fawkner',\n",
              " 'Suburb=Ferntree Gully',\n",
              " 'Suburb=Fitzroy',\n",
              " 'Suburb=Fitzroy North',\n",
              " 'Suburb=Flemington',\n",
              " 'Suburb=Footscray',\n",
              " 'Suburb=Forest Hill',\n",
              " 'Suburb=Frankston',\n",
              " 'Suburb=Frankston North',\n",
              " 'Suburb=Frankston South',\n",
              " 'Suburb=Gardenvale',\n",
              " 'Suburb=Gisborne',\n",
              " 'Suburb=Gladstone Park',\n",
              " 'Suburb=Glen Huntly',\n",
              " 'Suburb=Glen Iris',\n",
              " 'Suburb=Glen Waverley',\n",
              " 'Suburb=Glenroy',\n",
              " 'Suburb=Gowanbrae',\n",
              " 'Suburb=Greensborough',\n",
              " 'Suburb=Greenvale',\n",
              " 'Suburb=Hadfield',\n",
              " 'Suburb=Hallam',\n",
              " 'Suburb=Hampton',\n",
              " 'Suburb=Hampton East',\n",
              " 'Suburb=Hampton Park',\n",
              " 'Suburb=Hawthorn',\n",
              " 'Suburb=Hawthorn East',\n",
              " 'Suburb=Healesville',\n",
              " 'Suburb=Heathmont',\n",
              " 'Suburb=Heidelberg',\n",
              " 'Suburb=Heidelberg Heights',\n",
              " 'Suburb=Heidelberg West',\n",
              " 'Suburb=Highett',\n",
              " 'Suburb=Hillside',\n",
              " 'Suburb=Hoppers Crossing',\n",
              " 'Suburb=Hughesdale',\n",
              " 'Suburb=Huntingdale',\n",
              " 'Suburb=Hurstbridge',\n",
              " 'Suburb=Ivanhoe',\n",
              " 'Suburb=Ivanhoe East',\n",
              " 'Suburb=Jacana',\n",
              " 'Suburb=Kealba',\n",
              " 'Suburb=Keilor',\n",
              " 'Suburb=Keilor Downs',\n",
              " 'Suburb=Keilor East',\n",
              " 'Suburb=Keilor Lodge',\n",
              " 'Suburb=Keilor Park',\n",
              " 'Suburb=Kensington',\n",
              " 'Suburb=Kew',\n",
              " 'Suburb=Kew East',\n",
              " 'Suburb=Keysborough',\n",
              " 'Suburb=Kilsyth',\n",
              " 'Suburb=Kings Park',\n",
              " 'Suburb=Kingsbury',\n",
              " 'Suburb=Kingsville',\n",
              " 'Suburb=Knoxfield',\n",
              " 'Suburb=Kooyong',\n",
              " 'Suburb=Kurunjang',\n",
              " 'Suburb=Lalor',\n",
              " 'Suburb=Langwarrin',\n",
              " 'Suburb=Lower Plenty',\n",
              " 'Suburb=Maidstone',\n",
              " 'Suburb=Malvern',\n",
              " 'Suburb=Malvern East',\n",
              " 'Suburb=Maribyrnong',\n",
              " 'Suburb=McKinnon',\n",
              " 'Suburb=Meadow Heights',\n",
              " 'Suburb=Melbourne',\n",
              " 'Suburb=Melton',\n",
              " 'Suburb=Melton South',\n",
              " 'Suburb=Melton West',\n",
              " 'Suburb=Mentone',\n",
              " 'Suburb=Mernda',\n",
              " 'Suburb=Middle Park',\n",
              " 'Suburb=Mill Park',\n",
              " 'Suburb=Mitcham',\n",
              " 'Suburb=Monbulk',\n",
              " 'Suburb=Mont Albert',\n",
              " 'Suburb=Montmorency',\n",
              " 'Suburb=Montrose',\n",
              " 'Suburb=Moonee Ponds',\n",
              " 'Suburb=Moorabbin',\n",
              " 'Suburb=Mooroolbark',\n",
              " 'Suburb=Mordialloc',\n",
              " 'Suburb=Mount Evelyn',\n",
              " 'Suburb=Mount Waverley',\n",
              " 'Suburb=Mulgrave',\n",
              " 'Suburb=Murrumbeena',\n",
              " 'Suburb=Narre Warren',\n",
              " 'Suburb=New Gisborne',\n",
              " 'Suburb=Newport',\n",
              " 'Suburb=Niddrie',\n",
              " 'Suburb=Noble Park',\n",
              " 'Suburb=North Melbourne',\n",
              " 'Suburb=North Warrandyte',\n",
              " 'Suburb=Northcote',\n",
              " 'Suburb=Notting Hill',\n",
              " 'Suburb=Nunawading',\n",
              " 'Suburb=Oak Park',\n",
              " 'Suburb=Oakleigh',\n",
              " 'Suburb=Oakleigh East',\n",
              " 'Suburb=Oakleigh South',\n",
              " 'Suburb=Officer',\n",
              " 'Suburb=Ormond',\n",
              " 'Suburb=Pakenham',\n",
              " 'Suburb=Parkdale',\n",
              " 'Suburb=Parkville',\n",
              " 'Suburb=Pascoe Vale',\n",
              " 'Suburb=Plumpton',\n",
              " 'Suburb=Point Cook',\n",
              " 'Suburb=Port Melbourne',\n",
              " 'Suburb=Prahran',\n",
              " 'Suburb=Preston',\n",
              " 'Suburb=Princes Hill',\n",
              " 'Suburb=Reservoir',\n",
              " 'Suburb=Richmond',\n",
              " 'Suburb=Riddells Creek',\n",
              " 'Suburb=Ringwood',\n",
              " 'Suburb=Ringwood East',\n",
              " 'Suburb=Ringwood North',\n",
              " 'Suburb=Ripponlea',\n",
              " 'Suburb=Rockbank',\n",
              " 'Suburb=Rosanna',\n",
              " 'Suburb=Rowville',\n",
              " 'Suburb=Roxburgh Park',\n",
              " 'Suburb=Sandhurst',\n",
              " 'Suburb=Sandringham',\n",
              " 'Suburb=Scoresby',\n",
              " 'Suburb=Seabrook',\n",
              " 'Suburb=Seaford',\n",
              " 'Suburb=Seaholme',\n",
              " 'Suburb=Seddon',\n",
              " 'Suburb=Silvan',\n",
              " 'Suburb=Skye',\n",
              " 'Suburb=South Kingsville',\n",
              " 'Suburb=South Melbourne',\n",
              " 'Suburb=South Morang',\n",
              " 'Suburb=South Yarra',\n",
              " 'Suburb=Southbank',\n",
              " 'Suburb=Spotswood',\n",
              " 'Suburb=Springvale',\n",
              " 'Suburb=Springvale South',\n",
              " 'Suburb=St Albans',\n",
              " 'Suburb=St Helena',\n",
              " 'Suburb=St Kilda',\n",
              " 'Suburb=Strathmore',\n",
              " 'Suburb=Strathmore Heights',\n",
              " 'Suburb=Sunbury',\n",
              " 'Suburb=Sunshine',\n",
              " 'Suburb=Sunshine North',\n",
              " 'Suburb=Sunshine West',\n",
              " 'Suburb=Surrey Hills',\n",
              " 'Suburb=Sydenham',\n",
              " 'Suburb=Tarneit',\n",
              " 'Suburb=Taylors Hill',\n",
              " 'Suburb=Taylors Lakes',\n",
              " 'Suburb=Templestowe',\n",
              " 'Suburb=Templestowe Lower',\n",
              " 'Suburb=The Basin',\n",
              " 'Suburb=Thomastown',\n",
              " 'Suburb=Thornbury',\n",
              " 'Suburb=Toorak',\n",
              " 'Suburb=Travancore',\n",
              " 'Suburb=Truganina',\n",
              " 'Suburb=Tullamarine',\n",
              " 'Suburb=Upwey',\n",
              " 'Suburb=Vermont',\n",
              " 'Suburb=Vermont South',\n",
              " 'Suburb=Viewbank',\n",
              " 'Suburb=Wallan',\n",
              " 'Suburb=Wantirna',\n",
              " 'Suburb=Wantirna South',\n",
              " 'Suburb=Warrandyte',\n",
              " 'Suburb=Waterways',\n",
              " 'Suburb=Watsonia',\n",
              " 'Suburb=Watsonia North',\n",
              " 'Suburb=Werribee',\n",
              " 'Suburb=West Footscray',\n",
              " 'Suburb=West Melbourne',\n",
              " 'Suburb=Westmeadows',\n",
              " 'Suburb=Wheelers Hill',\n",
              " 'Suburb=Whittlesea',\n",
              " 'Suburb=Williams Landing',\n",
              " 'Suburb=Williamstown',\n",
              " 'Suburb=Williamstown North',\n",
              " 'Suburb=Windsor',\n",
              " 'Suburb=Wollert',\n",
              " 'Suburb=Wonga Park',\n",
              " 'Suburb=Wyndham Vale',\n",
              " 'Suburb=Yallambie',\n",
              " 'Suburb=Yarra Glen',\n",
              " 'Suburb=Yarraville',\n",
              " 'Type=h',\n",
              " 'Type=t',\n",
              " 'Type=u']"
            ]
          },
          "metadata": {},
          "execution_count": 193
        }
      ]
    },
    {
      "cell_type": "markdown",
      "metadata": {
        "id": "ismngxPcfoWb"
      },
      "source": [
        "## Ejercicio 2: Imputación por KNN\n",
        "\n",
        "En el teórico se presentó el método `IterativeImputer` para imputar valores faltantes en variables numéricas. Sin embargo, los ejemplos presentados sólo utilizaban algunas variables numéricas presentes en el conjunto de datos. En este ejercicio, utilizaremos la matriz de datos codificada para imputar datos faltantes de manera más precisa.\n",
        "\n",
        "1. Agregue a la matriz obtenida en el punto anterior las columnas `YearBuilt` y `BuildingArea`.\n",
        "2. Aplique una instancia de `IterativeImputer` con un estimador `KNeighborsRegressor` para imputar los valores de las variables. ¿Es necesario estandarizar o escalar los datos previamente?\n",
        "3. Realice un gráfico mostrando la distribución de cada variable antes de ser imputada, y con ambos métodos de imputación."
      ]
    },
    {
      "cell_type": "code",
      "source": [
        "#Se convierten las columnas YearBuilt y BuildingArea en una matriz.\n",
        "two_columns = df[['YearBuilt','BuildingArea']].to_numpy()"
      ],
      "metadata": {
        "id": "_qbQInS6zFDW"
      },
      "execution_count": null,
      "outputs": []
    },
    {
      "cell_type": "code",
      "source": [
        "#Se concatena la matriz obtenida a partir de las dos columnas anteriores con la matriz obtenida luego del encoding.\n",
        "\n",
        "concatenate_array =np.concatenate((feature_matrix, two_columns), axis=1)\n",
        "\n",
        "\n",
        "#Se visualiza la dimension de la matriz.\n",
        "np.shape(concatenate_array)"
      ],
      "metadata": {
        "colab": {
          "base_uri": "https://localhost:8080/"
        },
        "id": "YDyJ4o3vzrIr",
        "outputId": "ab4a5bd4-7f9e-45be-95c1-03e15454cf3d"
      },
      "execution_count": null,
      "outputs": [
        {
          "output_type": "execute_result",
          "data": {
            "text/plain": [
              "(13580, 522)"
            ]
          },
          "metadata": {},
          "execution_count": 195
        }
      ]
    },
    {
      "cell_type": "code",
      "source": [
        "#Visualizacion cantidad de faltantes \n",
        "import missingno as msno\n",
        "msno.bar(df,figsize=(12, 6), sort=\"ascending\",fontsize=12, color='tomato') "
      ],
      "metadata": {
        "colab": {
          "base_uri": "https://localhost:8080/",
          "height": 504
        },
        "id": "XnxhE7ilon0q",
        "outputId": "626837da-8890-490c-d7af-eaca3f8397d0"
      },
      "execution_count": null,
      "outputs": [
        {
          "output_type": "execute_result",
          "data": {
            "text/plain": [
              "<matplotlib.axes._subplots.AxesSubplot at 0x7faa476fe790>"
            ]
          },
          "metadata": {},
          "execution_count": 196
        },
        {
          "output_type": "display_data",
          "data": {
            "text/plain": [
              "<Figure size 864x432 with 3 Axes>"
            ],
            "image/png": "[encoded data removed]"
          },
          "metadata": {
            "needs_background": "light"
          }
        }
      ]
    },
    {
      "cell_type": "markdown",
      "source": [
        "####Imputacion de 2 variables unicamente.\n",
        "\n"
      ],
      "metadata": {
        "id": "gaWjHebPMxmB"
      }
    },
    {
      "cell_type": "code",
      "source": [
        "#Es necesario estandarizar los datos previamente de las columnas a imputar.\n",
        "from sklearn.preprocessing import StandardScaler\n",
        "\n",
        "#Se obtiene una matriz.\n",
        "matrix_columns = StandardScaler().fit_transform(two_columns) "
      ],
      "metadata": {
        "id": "3sJHON4ADAxV"
      },
      "execution_count": null,
      "outputs": []
    },
    {
      "cell_type": "code",
      "metadata": {
        "id": "G4ClSr_JapCw",
        "colab": {
          "base_uri": "https://localhost:8080/"
        },
        "outputId": "eb902996-2884-49cd-e5c0-59a827647c0b"
      },
      "source": [
        "#Se imputan los datos faltantes de las 2 columnas\n",
        "from sklearn.experimental import enable_iterative_imputer\n",
        "from sklearn.impute import IterativeImputer\n",
        "from sklearn.neighbors import KNeighborsRegressor\n",
        "\n",
        "#Se copia la matriz.\n",
        "matrix_iterative = matrix_columns.copy() \n",
        "\n",
        "#Se aplica el metodo IterativeImputer a la matriz y se obtiene una matriz.\n",
        "iterative_imputer = IterativeImputer(random_state=0, estimator=KNeighborsRegressor())\n",
        "matrix_iterative = iterative_imputer.fit_transform(matrix_iterative) "
      ],
      "execution_count": null,
      "outputs": [
        {
          "output_type": "stream",
          "name": "stderr",
          "text": [
            "/usr/local/lib/python3.7/dist-packages/sklearn/impute/_iterative.py:701: ConvergenceWarning: [IterativeImputer] Early stopping criterion not reached.\n",
            "  ConvergenceWarning,\n"
          ]
        }
      ]
    },
    {
      "cell_type": "code",
      "source": [
        "#Se convierte la matriz a dataframe.\n",
        "df_iterative = pd.DataFrame(matrix_iterative, columns=['YearBuilt','BuildingArea'])"
      ],
      "metadata": {
        "id": "lWTLIOx-TUZM"
      },
      "execution_count": null,
      "outputs": []
    },
    {
      "cell_type": "code",
      "source": [
        "#Visualizacion datos imputados. \n",
        "import missingno as msno\n",
        "msno.bar(df_iterative,figsize=(12, 6), sort=\"ascending\",fontsize=12, color='blue') "
      ],
      "metadata": {
        "colab": {
          "base_uri": "https://localhost:8080/",
          "height": 499
        },
        "id": "pq9hzFaiTLrn",
        "outputId": "7c803116-00e1-4048-b234-a68ad90b9dfe"
      },
      "execution_count": null,
      "outputs": [
        {
          "output_type": "execute_result",
          "data": {
            "text/plain": [
              "<matplotlib.axes._subplots.AxesSubplot at 0x7faa4812e690>"
            ]
          },
          "metadata": {},
          "execution_count": 200
        },
        {
          "output_type": "display_data",
          "data": {
            "text/plain": [
              "<Figure size 864x432 with 3 Axes>"
            ],
            "image/png": "[encoded data removed]"
          },
          "metadata": {
            "needs_background": "light"
          }
        }
      ]
    },
    {
      "cell_type": "code",
      "source": [
        "#Se visualizan los datos estandarizados tanto de YearBuilt como de BuildingArea.\n",
        "print(df_iterative.YearBuilt)\n",
        "print(df_iterative.BuildingArea)"
      ],
      "metadata": {
        "colab": {
          "base_uri": "https://localhost:8080/"
        },
        "id": "52_Q5ouTfGCi",
        "outputId": "c428a5bb-b183-4402-b185-86d49cdfa120"
      },
      "execution_count": null,
      "outputs": [
        {
          "output_type": "stream",
          "name": "stdout",
          "text": [
            "0       -1.429624\n",
            "1       -1.735488\n",
            "2       -1.735488\n",
            "3       -1.429624\n",
            "4        1.323150\n",
            "           ...   \n",
            "13575    0.437755\n",
            "13576    0.813377\n",
            "13577    0.867038\n",
            "13578   -1.198885\n",
            "13579   -1.198885\n",
            "Name: YearBuilt, Length: 13580, dtype: float64\n",
            "0        0.040357\n",
            "1       -0.134881\n",
            "2       -0.003637\n",
            "3        0.040357\n",
            "4       -0.018425\n",
            "           ...   \n",
            "13575    0.020024\n",
            "13576   -0.035062\n",
            "13577   -0.051698\n",
            "13578    0.009302\n",
            "13579   -0.073881\n",
            "Name: BuildingArea, Length: 13580, dtype: float64\n"
          ]
        }
      ]
    },
    {
      "cell_type": "markdown",
      "source": [
        "####Imputacion de 2 variables usando todo el dataframe."
      ],
      "metadata": {
        "id": "_94cHcXMNBPc"
      }
    },
    {
      "cell_type": "code",
      "source": [
        "#Se remueven las columnas Postcode, Suburb, Type y Zipcode para realizar la imputacion utilizando la mayor de cantidad de columnas posibles del dataframe.\n",
        "df_impute_total = df.drop(['Postcode','Suburb','Type','zipcode'], axis=1)\n",
        "df_impute_total"
      ],
      "metadata": {
        "colab": {
          "base_uri": "https://localhost:8080/",
          "height": 424
        },
        "id": "R8o-cPlqb2Lg",
        "outputId": "a32f8b6f-7bd3-4a47-974b-3c003c2f3d3f"
      },
      "execution_count": null,
      "outputs": [
        {
          "output_type": "execute_result",
          "data": {
            "text/plain": [
              "       Rooms      Price  Distance  Landsize  BuildingArea  YearBuilt  \\\n",
              "0          2  1480000.0       2.5     202.0           NaN        NaN   \n",
              "1          2  1035000.0       2.5     156.0          79.0     1900.0   \n",
              "2          3  1465000.0       2.5     134.0         150.0     1900.0   \n",
              "3          3   850000.0       2.5      94.0           NaN        NaN   \n",
              "4          4  1600000.0       2.5     120.0         142.0     2014.0   \n",
              "...      ...        ...       ...       ...           ...        ...   \n",
              "13575      4  1245000.0      16.7     652.0           NaN     1981.0   \n",
              "13576      3  1031000.0       6.8     333.0         133.0     1995.0   \n",
              "13577      3  1170000.0       6.8     436.0           NaN     1997.0   \n",
              "13578      4  2500000.0       6.8     866.0         157.0     1920.0   \n",
              "13579      4  1285000.0       6.3     362.0         112.0     1920.0   \n",
              "\n",
              "       Propertycount       price  \n",
              "0             4019.0  130.624031  \n",
              "1             4019.0  130.624031  \n",
              "2             4019.0  130.624031  \n",
              "3             4019.0  130.624031  \n",
              "4             4019.0  130.624031  \n",
              "...              ...         ...  \n",
              "13575         7392.0  124.026455  \n",
              "13576         6380.0  191.094595  \n",
              "13577         6380.0  191.094595  \n",
              "13578         6380.0  191.094595  \n",
              "13579         6543.0  135.609756  \n",
              "\n",
              "[13580 rows x 8 columns]"
            ],
            "text/html": [
              "\n",
              "  <div id=\"df-0a4e94e8-80bc-4751-93ea-01dbb38e9e57\">\n",
              "    <div class=\"colab-df-container\">\n",
              "      <div>\n",
              "<style scoped>\n",
              "    .dataframe tbody tr th:only-of-type {\n",
              "        vertical-align: middle;\n",
              "    }\n",
              "\n",
              "    .dataframe tbody tr th {\n",
              "        vertical-align: top;\n",
              "    }\n",
              "\n",
              "    .dataframe thead th {\n",
              "        text-align: right;\n",
              "    }\n",
              "</style>\n",
              "<table border=\"1\" class=\"dataframe\">\n",
              "  <thead>\n",
              "    <tr style=\"text-align: right;\">\n",
              "      <th></th>\n",
              "      <th>Rooms</th>\n",
              "      <th>Price</th>\n",
              "      <th>Distance</th>\n",
              "      <th>Landsize</th>\n",
              "      <th>BuildingArea</th>\n",
              "      <th>YearBuilt</th>\n",
              "      <th>Propertycount</th>\n",
              "      <th>price</th>\n",
              "    </tr>\n",
              "  </thead>\n",
              "  <tbody>\n",
              "    <tr>\n",
              "      <th>0</th>\n",
              "      <td>2</td>\n",
              "      <td>1480000.0</td>\n",
              "      <td>2.5</td>\n",
              "      <td>202.0</td>\n",
              "      <td>NaN</td>\n",
              "      <td>NaN</td>\n",
              "      <td>4019.0</td>\n",
              "      <td>130.624031</td>\n",
              "    </tr>\n",
              "    <tr>\n",
              "      <th>1</th>\n",
              "      <td>2</td>\n",
              "      <td>1035000.0</td>\n",
              "      <td>2.5</td>\n",
              "      <td>156.0</td>\n",
              "      <td>79.0</td>\n",
              "      <td>1900.0</td>\n",
              "      <td>4019.0</td>\n",
              "      <td>130.624031</td>\n",
              "    </tr>\n",
              "    <tr>\n",
              "      <th>2</th>\n",
              "      <td>3</td>\n",
              "      <td>1465000.0</td>\n",
              "      <td>2.5</td>\n",
              "      <td>134.0</td>\n",
              "      <td>150.0</td>\n",
              "      <td>1900.0</td>\n",
              "      <td>4019.0</td>\n",
              "      <td>130.624031</td>\n",
              "    </tr>\n",
              "    <tr>\n",
              "      <th>3</th>\n",
              "      <td>3</td>\n",
              "      <td>850000.0</td>\n",
              "      <td>2.5</td>\n",
              "      <td>94.0</td>\n",
              "      <td>NaN</td>\n",
              "      <td>NaN</td>\n",
              "      <td>4019.0</td>\n",
              "      <td>130.624031</td>\n",
              "    </tr>\n",
              "    <tr>\n",
              "      <th>4</th>\n",
              "      <td>4</td>\n",
              "      <td>1600000.0</td>\n",
              "      <td>2.5</td>\n",
              "      <td>120.0</td>\n",
              "      <td>142.0</td>\n",
              "      <td>2014.0</td>\n",
              "      <td>4019.0</td>\n",
              "      <td>130.624031</td>\n",
              "    </tr>\n",
              "    <tr>\n",
              "      <th>...</th>\n",
              "      <td>...</td>\n",
              "      <td>...</td>\n",
              "      <td>...</td>\n",
              "      <td>...</td>\n",
              "      <td>...</td>\n",
              "      <td>...</td>\n",
              "      <td>...</td>\n",
              "      <td>...</td>\n",
              "    </tr>\n",
              "    <tr>\n",
              "      <th>13575</th>\n",
              "      <td>4</td>\n",
              "      <td>1245000.0</td>\n",
              "      <td>16.7</td>\n",
              "      <td>652.0</td>\n",
              "      <td>NaN</td>\n",
              "      <td>1981.0</td>\n",
              "      <td>7392.0</td>\n",
              "      <td>124.026455</td>\n",
              "    </tr>\n",
              "    <tr>\n",
              "      <th>13576</th>\n",
              "      <td>3</td>\n",
              "      <td>1031000.0</td>\n",
              "      <td>6.8</td>\n",
              "      <td>333.0</td>\n",
              "      <td>133.0</td>\n",
              "      <td>1995.0</td>\n",
              "      <td>6380.0</td>\n",
              "      <td>191.094595</td>\n",
              "    </tr>\n",
              "    <tr>\n",
              "      <th>13577</th>\n",
              "      <td>3</td>\n",
              "      <td>1170000.0</td>\n",
              "      <td>6.8</td>\n",
              "      <td>436.0</td>\n",
              "      <td>NaN</td>\n",
              "      <td>1997.0</td>\n",
              "      <td>6380.0</td>\n",
              "      <td>191.094595</td>\n",
              "    </tr>\n",
              "    <tr>\n",
              "      <th>13578</th>\n",
              "      <td>4</td>\n",
              "      <td>2500000.0</td>\n",
              "      <td>6.8</td>\n",
              "      <td>866.0</td>\n",
              "      <td>157.0</td>\n",
              "      <td>1920.0</td>\n",
              "      <td>6380.0</td>\n",
              "      <td>191.094595</td>\n",
              "    </tr>\n",
              "    <tr>\n",
              "      <th>13579</th>\n",
              "      <td>4</td>\n",
              "      <td>1285000.0</td>\n",
              "      <td>6.3</td>\n",
              "      <td>362.0</td>\n",
              "      <td>112.0</td>\n",
              "      <td>1920.0</td>\n",
              "      <td>6543.0</td>\n",
              "      <td>135.609756</td>\n",
              "    </tr>\n",
              "  </tbody>\n",
              "</table>\n",
              "<p>13580 rows × 8 columns</p>\n",
              "</div>\n",
              "      <button class=\"colab-df-convert\" onclick=\"convertToInteractive('df-0a4e94e8-80bc-4751-93ea-01dbb38e9e57')\"\n",
              "              title=\"Convert this dataframe to an interactive table.\"\n",
              "              style=\"display:none;\">\n",
              "        \n",
              "  <svg xmlns=\"http://www.w3.org/2000/svg\" height=\"24px\"viewBox=\"0 0 24 24\"\n",
              "       width=\"24px\">\n",
              "    <path d=\"M0 0h24v24H0V0z\" fill=\"none\"/>\n",
              "    <path d=\"M18.56 5.44l.94 2.06.94-2.06 2.06-.94-2.06-.94-.94-2.06-.94 2.06-2.06.94zm-11 1L8.5 8.5l.94-2.06 2.06-.94-2.06-.94L8.5 2.5l-.94 2.06-2.06.94zm10 10l.94 2.06.94-2.06 2.06-.94-2.06-.94-.94-2.06-.94 2.06-2.06.94z\"/><path d=\"M17.41 7.96l-1.37-1.37c-.4-.4-.92-.59-1.43-.59-.52 0-1.04.2-1.43.59L10.3 9.45l-7.72 7.72c-.78.78-.78 2.05 0 2.83L4 21.41c.39.39.9.59 1.41.59.51 0 1.02-.2 1.41-.59l7.78-7.78 2.81-2.81c.8-.78.8-2.07 0-2.86zM5.41 20L4 18.59l7.72-7.72 1.47 1.35L5.41 20z\"/>\n",
              "  </svg>\n",
              "      </button>\n",
              "      \n",
              "  <style>\n",
              "    .colab-df-container {\n",
              "      display:flex;\n",
              "      flex-wrap:wrap;\n",
              "      gap: 12px;\n",
              "    }\n",
              "\n",
              "    .colab-df-convert {\n",
              "      background-color: #E8F0FE;\n",
              "      border: none;\n",
              "      border-radius: 50%;\n",
              "      cursor: pointer;\n",
              "      display: none;\n",
              "      fill: #1967D2;\n",
              "      height: 32px;\n",
              "      padding: 0 0 0 0;\n",
              "      width: 32px;\n",
              "    }\n",
              "\n",
              "    .colab-df-convert:hover {\n",
              "      background-color: #E2EBFA;\n",
              "      box-shadow: 0px 1px 2px rgba(60, 64, 67, 0.3), 0px 1px 3px 1px rgba(60, 64, 67, 0.15);\n",
              "      fill: #174EA6;\n",
              "    }\n",
              "\n",
              "    [theme=dark] .colab-df-convert {\n",
              "      background-color: #3B4455;\n",
              "      fill: #D2E3FC;\n",
              "    }\n",
              "\n",
              "    [theme=dark] .colab-df-convert:hover {\n",
              "      background-color: #434B5C;\n",
              "      box-shadow: 0px 1px 3px 1px rgba(0, 0, 0, 0.15);\n",
              "      filter: drop-shadow(0px 1px 2px rgba(0, 0, 0, 0.3));\n",
              "      fill: #FFFFFF;\n",
              "    }\n",
              "  </style>\n",
              "\n",
              "      <script>\n",
              "        const buttonEl =\n",
              "          document.querySelector('#df-0a4e94e8-80bc-4751-93ea-01dbb38e9e57 button.colab-df-convert');\n",
              "        buttonEl.style.display =\n",
              "          google.colab.kernel.accessAllowed ? 'block' : 'none';\n",
              "\n",
              "        async function convertToInteractive(key) {\n",
              "          const element = document.querySelector('#df-0a4e94e8-80bc-4751-93ea-01dbb38e9e57');\n",
              "          const dataTable =\n",
              "            await google.colab.kernel.invokeFunction('convertToInteractive',\n",
              "                                                     [key], {});\n",
              "          if (!dataTable) return;\n",
              "\n",
              "          const docLinkHtml = 'Like what you see? Visit the ' +\n",
              "            '<a target=\"_blank\" href=https://colab.research.google.com/notebooks/data_table.ipynb>data table notebook</a>'\n",
              "            + ' to learn more about interactive tables.';\n",
              "          element.innerHTML = '';\n",
              "          dataTable['output_type'] = 'display_data';\n",
              "          await google.colab.output.renderOutput(dataTable, element);\n",
              "          const docLink = document.createElement('div');\n",
              "          docLink.innerHTML = docLinkHtml;\n",
              "          element.appendChild(docLink);\n",
              "        }\n",
              "      </script>\n",
              "    </div>\n",
              "  </div>\n",
              "  "
            ]
          },
          "metadata": {},
          "execution_count": 202
        }
      ]
    },
    {
      "cell_type": "code",
      "source": [
        "#Es necesario estandarizar los datos previamente de las columnas a imputar.\n",
        "from sklearn.preprocessing import StandardScaler\n",
        "\n",
        "#Luego de que el metodo pasa por el metodo fit_transform se obtiene una matriz.\n",
        "matrix_total = StandardScaler().fit_transform(df_impute_total)\n",
        "matrix_total "
      ],
      "metadata": {
        "colab": {
          "base_uri": "https://localhost:8080/"
        },
        "id": "gG-MAOK8NHxC",
        "outputId": "4a33b17c-c589-4221-c6c4-fa95fbb94b17"
      },
      "execution_count": null,
      "outputs": [
        {
          "output_type": "execute_result",
          "data": {
            "text/plain": [
              "array([[-0.98146337,  0.63244803, -1.30148498, ...,         nan,\n",
              "        -0.78462481, -0.02994874],\n",
              "       [-0.98146337, -0.06363975, -1.30148498, ..., -1.73548779,\n",
              "        -0.78462481, -0.02994874],\n",
              "       [ 0.06487613,  0.6089844 , -1.30148498, ..., -1.73548779,\n",
              "        -0.78462481, -0.02994874],\n",
              "       ...,\n",
              "       [ 0.06487613,  0.14753294, -0.56876052, ...,  0.86703758,\n",
              "        -0.24538926,  1.14162225],\n",
              "       [ 1.11121563,  2.22797508, -0.56876052, ..., -1.19888462,\n",
              "        -0.24538926,  1.14162225],\n",
              "       [ 1.11121563,  0.3274208 , -0.65396104, ..., -1.19888462,\n",
              "        -0.20816122,  0.06664588]])"
            ]
          },
          "metadata": {},
          "execution_count": 203
        }
      ]
    },
    {
      "cell_type": "code",
      "source": [
        "#Se imputan los datos faltantes de las 2 columnas\n",
        "from sklearn.experimental import enable_iterative_imputer\n",
        "from sklearn.impute import IterativeImputer\n",
        "from sklearn.neighbors import KNeighborsRegressor\n",
        "\n",
        "\n",
        "#Se copia la matriz anterior.\n",
        "matrix_iterative_total = matrix_total.copy() \n",
        "\n",
        "iterative_imputer = IterativeImputer(random_state=0, estimator=KNeighborsRegressor())\n",
        "\n",
        "matrix_iterative_total = iterative_imputer.fit_transform(matrix_iterative_total) "
      ],
      "metadata": {
        "colab": {
          "base_uri": "https://localhost:8080/"
        },
        "id": "zTtVU9zMVTkB",
        "outputId": "2e99efe3-a412-425c-93fc-74bd825d6291"
      },
      "execution_count": null,
      "outputs": [
        {
          "output_type": "stream",
          "name": "stderr",
          "text": [
            "/usr/local/lib/python3.7/dist-packages/sklearn/impute/_iterative.py:701: ConvergenceWarning: [IterativeImputer] Early stopping criterion not reached.\n",
            "  ConvergenceWarning,\n"
          ]
        }
      ]
    },
    {
      "cell_type": "code",
      "source": [
        "#Se convierte la matriz obtenida luego de la imputacion en un dataframe.\n",
        "df_iterative_total = pd.DataFrame(matrix_iterative_total, columns=['Rooms','Price','Distance','Landsize','YearBuilt','BuildingArea','Propertycount','price'])"
      ],
      "metadata": {
        "id": "aRW86ZaEVcC0"
      },
      "execution_count": null,
      "outputs": []
    },
    {
      "cell_type": "code",
      "source": [
        "#Visualizacion datos imputados. \n",
        "import missingno as msno\n",
        "msno.bar(df_iterative_total ,figsize=(12, 6), sort=\"ascending\",fontsize=12, color='orange') "
      ],
      "metadata": {
        "colab": {
          "base_uri": "https://localhost:8080/",
          "height": 504
        },
        "id": "wcMp8se2V1z_",
        "outputId": "c6ad6661-2fe2-4982-f68e-a347986ffd86"
      },
      "execution_count": null,
      "outputs": [
        {
          "output_type": "execute_result",
          "data": {
            "text/plain": [
              "<matplotlib.axes._subplots.AxesSubplot at 0x7faa486fc6d0>"
            ]
          },
          "metadata": {},
          "execution_count": 206
        },
        {
          "output_type": "display_data",
          "data": {
            "text/plain": [
              "<Figure size 864x432 with 3 Axes>"
            ],
            "image/png": "[encoded data removed]"
          },
          "metadata": {
            "needs_background": "light"
          }
        }
      ]
    },
    {
      "cell_type": "code",
      "source": [
        "#Se estandarizan las columnas originales (sin imputacion) para poder visualizarlas en el grafico.\n",
        "df_standarized = pd.DataFrame(matrix_columns, columns=['YearBuilt','BuildingArea']) "
      ],
      "metadata": {
        "id": "V4Ho6eQziIgz"
      },
      "execution_count": null,
      "outputs": []
    },
    {
      "cell_type": "markdown",
      "source": [
        "####Gráfico Building Area Standarized\n",
        "Se puede observar en el grafico que cuando se realiza una imputacion utilizando solo las 2 variables involucradas (YearBuilt y BuildingArea) se presentan datos imputados muy cercanos entre si y a la media,\n",
        "mientras que para el caso de la imputacion utilizando toda la matriz se tiene que los valores imputados se encuentran mas alejados  entre si y mas alejados de la media.\n",
        "Llegando a la conclusion que agregar mas variables al imputar no es necesariamente beneficioso ya que si se agrega informacion que no esta fuertemente relacionada a la variable a imputar se mete ruido y no se tienen valores cercanos a los originales."
      ],
      "metadata": {
        "id": "NHS_qE36v-l0"
      }
    },
    {
      "cell_type": "code",
      "source": [
        "#Se grafica la distribucion de los datos de BuildingArea para los 3 casos vistos:\n",
        "#Previo a la imputacion(Green)\n",
        "#Imputacion utilizando solo 2 columnas.(Blue)\n",
        "#Imputacion utilizando todo el dataframe.(Orange)\n",
        "fig = plt.figure(figsize=(8, 5))\n",
        "seaborn.kdeplot(data=df_iterative, x='BuildingArea') \n",
        "seaborn.kdeplot(data=df_iterative_total, x='BuildingArea') \n",
        "seaborn.kdeplot(data=df_standarized , x='BuildingArea') \n",
        "plt.xlim(-3, 3)\n",
        "plt.xlabel('Building_Area_Standarized')"
      ],
      "metadata": {
        "colab": {
          "base_uri": "https://localhost:8080/",
          "height": 372
        },
        "outputId": "ea107807-bfb0-452c-9497-1d1b79377e2b",
        "id": "TGpRB5GOiDw3"
      },
      "execution_count": null,
      "outputs": [
        {
          "output_type": "execute_result",
          "data": {
            "text/plain": [
              "Text(0.5, 0, 'Building_Area_Standarized')"
            ]
          },
          "metadata": {},
          "execution_count": 208
        },
        {
          "output_type": "display_data",
          "data": {
            "text/plain": [
              "<Figure size 576x360 with 1 Axes>"
            ],
            "image/png": "[encoded data removed]"
          },
          "metadata": {
            "needs_background": "light"
          }
        }
      ]
    },
    {
      "cell_type": "markdown",
      "source": [
        "######Gráfico Year Built Standarized\n",
        "Se puede observar en el grafico que cuando se realiza una imputacion utilizando solo las 2 variables involucradas (YearBuilt y BuildingArea) se presentan datos imputados muy cercanos entre si y alejados de la media,\n",
        "mientras que para el caso de la imputacion utilizando toda la matriz se tiene que los valores imputados estan todos muy cercanos a la media y tambien entre si, teniendo una distribucion mas cercana a la original."
      ],
      "metadata": {
        "id": "KkAOOgwRvu0w"
      }
    },
    {
      "cell_type": "code",
      "source": [
        "#Se grafica la distribucion de los datos de YearBuilt para los 3 casos vistos:\n",
        "#Previo a la imputacion(Green)\n",
        "#Imputacion utilizando solo 2 columnas.(Blue)\n",
        "#Imputacion utilizando todo el dataframe.(Orange)\n",
        "fig = plt.figure(figsize=(8, 5))\n",
        "seaborn.kdeplot(data=df_iterative, x='YearBuilt') \n",
        "seaborn.kdeplot(data=df_iterative_total, x='YearBuilt') \n",
        "seaborn.kdeplot(data=df_standarized , x='YearBuilt')\n",
        "plt.xlim(-3, 3)\n",
        "plt.xlabel('Year_Built_Standarized')"
      ],
      "metadata": {
        "colab": {
          "base_uri": "https://localhost:8080/",
          "height": 372
        },
        "id": "i42ydH2yTO_x",
        "outputId": "386471f8-28f1-4d77-b036-0059ac89d1d2"
      },
      "execution_count": null,
      "outputs": [
        {
          "output_type": "execute_result",
          "data": {
            "text/plain": [
              "Text(0.5, 0, 'Year_Built_Standarized')"
            ]
          },
          "metadata": {},
          "execution_count": 209
        },
        {
          "output_type": "display_data",
          "data": {
            "text/plain": [
              "<Figure size 576x360 with 1 Axes>"
            ],
            "image/png": "[encoded data removed]"
          },
          "metadata": {
            "needs_background": "light"
          }
        }
      ]
    },
    {
      "cell_type": "markdown",
      "metadata": {
        "id": "NBN7-5OIxjJW"
      },
      "source": [
        "## Ejercicio 3: Reducción de dimensionalidad.\n",
        "\n",
        "Utilizando la matriz obtenida en el ejercicio anterior:\n",
        "1. Aplique `PCA` para obtener $n$ componentes principales de la matriz, donde `n = min(20, X.shape[0])`. ¿Es necesario estandarizar o escalar los datos?\n",
        "2. Grafique la varianza capturada por los primeros $n$ componentes principales, para cada $n$.\n",
        "3. En base al gráfico, seleccione las primeras $m$ columnas de la matriz transformada para agregar como nuevas características al conjunto de datos."
      ]
    },
    {
      "cell_type": "code",
      "source": [
        "#Se convierte el dataframe manteniendo unicamente las columnas imputadas en una matriz.\n",
        "#Se concatena esta matriz nueva con la matriz obtenida en el encoding.\n",
        "\n",
        "two_columns_imputed = df_iterative_total[['YearBuilt','BuildingArea']].to_numpy()\n",
        "\n",
        "concatenate_array_imputed =np.concatenate((feature_matrix, two_columns_imputed), axis=1)\n",
        "\n",
        "np.shape(concatenate_array_imputed)"
      ],
      "metadata": {
        "colab": {
          "base_uri": "https://localhost:8080/"
        },
        "id": "HxrfsMpikz9u",
        "outputId": "124613f0-14eb-4dfb-8309-45a04fa99ff2"
      },
      "execution_count": null,
      "outputs": [
        {
          "output_type": "execute_result",
          "data": {
            "text/plain": [
              "(13580, 522)"
            ]
          },
          "metadata": {},
          "execution_count": 210
        }
      ]
    },
    {
      "cell_type": "code",
      "source": [
        "#Se normalizan los datos para una correcta reduccion de dimensionalidad.\n",
        "from sklearn.preprocessing import MinMaxScaler\n",
        "scaler = MinMaxScaler().fit_transform(concatenate_array_imputed)"
      ],
      "metadata": {
        "id": "QQ4ixAITnxH1"
      },
      "execution_count": null,
      "outputs": []
    },
    {
      "cell_type": "code",
      "source": [
        "#Se realiza la reduccion de dimensionalidad utilizando el metodo PCA\n",
        "#Se propone la utilizacion de 30 componentes principales.\n",
        "\n",
        "from sklearn.decomposition import PCA\n",
        "\n",
        "pca = PCA(n_components = 30) \n",
        "\n",
        "principalComponents = pca.fit_transform(scaler)"
      ],
      "metadata": {
        "id": "V4PMquEiX6W3"
      },
      "execution_count": null,
      "outputs": []
    },
    {
      "cell_type": "code",
      "source": [
        "#Se obtiene el porcentaje de varianza explicada para 30 componentes principales.\n",
        "pca.explained_variance_ratio_.sum()*100"
      ],
      "metadata": {
        "colab": {
          "base_uri": "https://localhost:8080/"
        },
        "id": "zz0Lvga8mppF",
        "outputId": "a7c1d75e-a2dd-4f9a-e0f2-a8f1bf848b01"
      },
      "execution_count": null,
      "outputs": [
        {
          "output_type": "execute_result",
          "data": {
            "text/plain": [
              "51.75671679081428"
            ]
          },
          "metadata": {},
          "execution_count": 213
        }
      ]
    },
    {
      "cell_type": "code",
      "source": [
        "#Se realiza un grafico de linea para visualizar el porcentaje de varianza explicada en funcion de la cantidad de componentes principales utilizados.\n",
        "seaborn.lineplot(x=range(pca.n_components),\n",
        "                 y=pca.explained_variance_ratio_, label='Standarized')\n",
        "plt.ylabel(\"Ratio of variance explained\")\n",
        "plt.xlabel(\"Components\")\n",
        "plt.legend()"
      ],
      "metadata": {
        "colab": {
          "base_uri": "https://localhost:8080/",
          "height": 333
        },
        "id": "XN6NWA2Hu1Zd",
        "outputId": "0664579d-871a-4cfa-d023-d339eac80b2e"
      },
      "execution_count": null,
      "outputs": [
        {
          "output_type": "execute_result",
          "data": {
            "text/plain": [
              "<matplotlib.legend.Legend at 0x7faa4e90e950>"
            ]
          },
          "metadata": {},
          "execution_count": 214
        },
        {
          "output_type": "display_data",
          "data": {
            "text/plain": [
              "<Figure size 432x288 with 1 Axes>"
            ],
            "image/png": "[encoded data removed]"
          },
          "metadata": {
            "needs_background": "light"
          }
        }
      ]
    },
    {
      "cell_type": "markdown",
      "metadata": {
        "id": "WrZTYmG_ZyDy"
      },
      "source": [
        "## Ejercicio 4: Composición del resultado\n",
        "\n",
        "Transformar nuevamente el conjunto de datos procesado en un `pandas.DataFrame` y guardarlo en un archivo.\n",
        "\n",
        "Para eso, será necesario recordar el nombre original de cada columna de la matriz, en el orden correcto. Tener en cuenta:\n",
        "1. El método `OneHotEncoder.get_feature_names` o el atributo `OneHotEncoder.categories_` permiten obtener una lista con los valores de la categoría que le corresponde a cada índice de la matriz.\n",
        "2. Ninguno de los métodos aplicados intercambia de lugar las columnas o las filas de la matriz."
      ]
    },
    {
      "cell_type": "code",
      "source": [
        "#Se convierte el resultado de la reduccion de dimensionalidad, que es una matriz de 13580 filas con 10 columnas (las 10 componentes principales), en un dataframe.\n",
        "df_new1 = pd.DataFrame(principalComponents[:, :10], columns = ['PCA_1','PCA_2','PCA_3','PCA_4','PCA_5','PCA_6','PCA_7','PCA_8','PCA_9','PCA_10'])\n",
        "\n",
        "#Se visuliza el resultado.\n",
        "df_new1.head()"
      ],
      "metadata": {
        "colab": {
          "base_uri": "https://localhost:8080/",
          "height": 206
        },
        "id": "zxhuSCtyzKJz",
        "outputId": "9fbaa1d6-fee4-431f-ea7f-56e67143cfeb"
      },
      "execution_count": null,
      "outputs": [
        {
          "output_type": "execute_result",
          "data": {
            "text/plain": [
              "      PCA_1     PCA_2     PCA_3     PCA_4     PCA_5     PCA_6     PCA_7  \\\n",
              "0 -0.369989 -0.054080 -0.140374 -0.002002 -0.062019 -0.011647 -0.014005   \n",
              "1 -0.367349 -0.054267 -0.139811 -0.004378 -0.062106 -0.011189 -0.014747   \n",
              "2 -0.380857 -0.049720 -0.141433 -0.006336 -0.058585 -0.009378 -0.012126   \n",
              "3 -0.376280 -0.049080 -0.140620 -0.010835 -0.058351 -0.007967 -0.013075   \n",
              "4 -0.389653 -0.042431 -0.142572 -0.013742 -0.053990 -0.004785 -0.009754   \n",
              "\n",
              "      PCA_8     PCA_9    PCA_10  \n",
              "0  0.020187  0.004710 -0.020775  \n",
              "1  0.018024  0.001602 -0.022638  \n",
              "2  0.018048  0.006678 -0.017683  \n",
              "3  0.013920  0.001837 -0.019905  \n",
              "4  0.013011  0.007955 -0.012842  "
            ],
            "text/html": [
              "\n",
              "  <div id=\"df-5619ba7d-94d9-447c-915e-4c1d80b4ac4a\">\n",
              "    <div class=\"colab-df-container\">\n",
              "      <div>\n",
              "<style scoped>\n",
              "    .dataframe tbody tr th:only-of-type {\n",
              "        vertical-align: middle;\n",
              "    }\n",
              "\n",
              "    .dataframe tbody tr th {\n",
              "        vertical-align: top;\n",
              "    }\n",
              "\n",
              "    .dataframe thead th {\n",
              "        text-align: right;\n",
              "    }\n",
              "</style>\n",
              "<table border=\"1\" class=\"dataframe\">\n",
              "  <thead>\n",
              "    <tr style=\"text-align: right;\">\n",
              "      <th></th>\n",
              "      <th>PCA_1</th>\n",
              "      <th>PCA_2</th>\n",
              "      <th>PCA_3</th>\n",
              "      <th>PCA_4</th>\n",
              "      <th>PCA_5</th>\n",
              "      <th>PCA_6</th>\n",
              "      <th>PCA_7</th>\n",
              "      <th>PCA_8</th>\n",
              "      <th>PCA_9</th>\n",
              "      <th>PCA_10</th>\n",
              "    </tr>\n",
              "  </thead>\n",
              "  <tbody>\n",
              "    <tr>\n",
              "      <th>0</th>\n",
              "      <td>-0.369989</td>\n",
              "      <td>-0.054080</td>\n",
              "      <td>-0.140374</td>\n",
              "      <td>-0.002002</td>\n",
              "      <td>-0.062019</td>\n",
              "      <td>-0.011647</td>\n",
              "      <td>-0.014005</td>\n",
              "      <td>0.020187</td>\n",
              "      <td>0.004710</td>\n",
              "      <td>-0.020775</td>\n",
              "    </tr>\n",
              "    <tr>\n",
              "      <th>1</th>\n",
              "      <td>-0.367349</td>\n",
              "      <td>-0.054267</td>\n",
              "      <td>-0.139811</td>\n",
              "      <td>-0.004378</td>\n",
              "      <td>-0.062106</td>\n",
              "      <td>-0.011189</td>\n",
              "      <td>-0.014747</td>\n",
              "      <td>0.018024</td>\n",
              "      <td>0.001602</td>\n",
              "      <td>-0.022638</td>\n",
              "    </tr>\n",
              "    <tr>\n",
              "      <th>2</th>\n",
              "      <td>-0.380857</td>\n",
              "      <td>-0.049720</td>\n",
              "      <td>-0.141433</td>\n",
              "      <td>-0.006336</td>\n",
              "      <td>-0.058585</td>\n",
              "      <td>-0.009378</td>\n",
              "      <td>-0.012126</td>\n",
              "      <td>0.018048</td>\n",
              "      <td>0.006678</td>\n",
              "      <td>-0.017683</td>\n",
              "    </tr>\n",
              "    <tr>\n",
              "      <th>3</th>\n",
              "      <td>-0.376280</td>\n",
              "      <td>-0.049080</td>\n",
              "      <td>-0.140620</td>\n",
              "      <td>-0.010835</td>\n",
              "      <td>-0.058351</td>\n",
              "      <td>-0.007967</td>\n",
              "      <td>-0.013075</td>\n",
              "      <td>0.013920</td>\n",
              "      <td>0.001837</td>\n",
              "      <td>-0.019905</td>\n",
              "    </tr>\n",
              "    <tr>\n",
              "      <th>4</th>\n",
              "      <td>-0.389653</td>\n",
              "      <td>-0.042431</td>\n",
              "      <td>-0.142572</td>\n",
              "      <td>-0.013742</td>\n",
              "      <td>-0.053990</td>\n",
              "      <td>-0.004785</td>\n",
              "      <td>-0.009754</td>\n",
              "      <td>0.013011</td>\n",
              "      <td>0.007955</td>\n",
              "      <td>-0.012842</td>\n",
              "    </tr>\n",
              "  </tbody>\n",
              "</table>\n",
              "</div>\n",
              "      <button class=\"colab-df-convert\" onclick=\"convertToInteractive('df-5619ba7d-94d9-447c-915e-4c1d80b4ac4a')\"\n",
              "              title=\"Convert this dataframe to an interactive table.\"\n",
              "              style=\"display:none;\">\n",
              "        \n",
              "  <svg xmlns=\"http://www.w3.org/2000/svg\" height=\"24px\"viewBox=\"0 0 24 24\"\n",
              "       width=\"24px\">\n",
              "    <path d=\"M0 0h24v24H0V0z\" fill=\"none\"/>\n",
              "    <path d=\"M18.56 5.44l.94 2.06.94-2.06 2.06-.94-2.06-.94-.94-2.06-.94 2.06-2.06.94zm-11 1L8.5 8.5l.94-2.06 2.06-.94-2.06-.94L8.5 2.5l-.94 2.06-2.06.94zm10 10l.94 2.06.94-2.06 2.06-.94-2.06-.94-.94-2.06-.94 2.06-2.06.94z\"/><path d=\"M17.41 7.96l-1.37-1.37c-.4-.4-.92-.59-1.43-.59-.52 0-1.04.2-1.43.59L10.3 9.45l-7.72 7.72c-.78.78-.78 2.05 0 2.83L4 21.41c.39.39.9.59 1.41.59.51 0 1.02-.2 1.41-.59l7.78-7.78 2.81-2.81c.8-.78.8-2.07 0-2.86zM5.41 20L4 18.59l7.72-7.72 1.47 1.35L5.41 20z\"/>\n",
              "  </svg>\n",
              "      </button>\n",
              "      \n",
              "  <style>\n",
              "    .colab-df-container {\n",
              "      display:flex;\n",
              "      flex-wrap:wrap;\n",
              "      gap: 12px;\n",
              "    }\n",
              "\n",
              "    .colab-df-convert {\n",
              "      background-color: #E8F0FE;\n",
              "      border: none;\n",
              "      border-radius: 50%;\n",
              "      cursor: pointer;\n",
              "      display: none;\n",
              "      fill: #1967D2;\n",
              "      height: 32px;\n",
              "      padding: 0 0 0 0;\n",
              "      width: 32px;\n",
              "    }\n",
              "\n",
              "    .colab-df-convert:hover {\n",
              "      background-color: #E2EBFA;\n",
              "      box-shadow: 0px 1px 2px rgba(60, 64, 67, 0.3), 0px 1px 3px 1px rgba(60, 64, 67, 0.15);\n",
              "      fill: #174EA6;\n",
              "    }\n",
              "\n",
              "    [theme=dark] .colab-df-convert {\n",
              "      background-color: #3B4455;\n",
              "      fill: #D2E3FC;\n",
              "    }\n",
              "\n",
              "    [theme=dark] .colab-df-convert:hover {\n",
              "      background-color: #434B5C;\n",
              "      box-shadow: 0px 1px 3px 1px rgba(0, 0, 0, 0.15);\n",
              "      filter: drop-shadow(0px 1px 2px rgba(0, 0, 0, 0.3));\n",
              "      fill: #FFFFFF;\n",
              "    }\n",
              "  </style>\n",
              "\n",
              "      <script>\n",
              "        const buttonEl =\n",
              "          document.querySelector('#df-5619ba7d-94d9-447c-915e-4c1d80b4ac4a button.colab-df-convert');\n",
              "        buttonEl.style.display =\n",
              "          google.colab.kernel.accessAllowed ? 'block' : 'none';\n",
              "\n",
              "        async function convertToInteractive(key) {\n",
              "          const element = document.querySelector('#df-5619ba7d-94d9-447c-915e-4c1d80b4ac4a');\n",
              "          const dataTable =\n",
              "            await google.colab.kernel.invokeFunction('convertToInteractive',\n",
              "                                                     [key], {});\n",
              "          if (!dataTable) return;\n",
              "\n",
              "          const docLinkHtml = 'Like what you see? Visit the ' +\n",
              "            '<a target=\"_blank\" href=https://colab.research.google.com/notebooks/data_table.ipynb>data table notebook</a>'\n",
              "            + ' to learn more about interactive tables.';\n",
              "          element.innerHTML = '';\n",
              "          dataTable['output_type'] = 'display_data';\n",
              "          await google.colab.output.renderOutput(dataTable, element);\n",
              "          const docLink = document.createElement('div');\n",
              "          docLink.innerHTML = docLinkHtml;\n",
              "          element.appendChild(docLink);\n",
              "        }\n",
              "      </script>\n",
              "    </div>\n",
              "  </div>\n",
              "  "
            ]
          },
          "metadata": {},
          "execution_count": 215
        }
      ]
    },
    {
      "cell_type": "code",
      "source": [
        "#Se convierte la matriz obtenida luego del encoding mas las dos columnas imputadas.\n",
        "df_new2 = pd.DataFrame(concatenate_array_imputed, columns = vec.get_feature_names() + ['YearBuilt','BuildingArea'])\n",
        "\n",
        "#Se visualiza el resultado.\n",
        "df_new2.head()"
      ],
      "metadata": {
        "colab": {
          "base_uri": "https://localhost:8080/",
          "height": 352
        },
        "id": "32PuPDi0zM8a",
        "outputId": "2fabd448-84aa-41e9-d60a-6c86b41c283d"
      },
      "execution_count": null,
      "outputs": [
        {
          "output_type": "stream",
          "name": "stderr",
          "text": [
            "/usr/local/lib/python3.7/dist-packages/sklearn/utils/deprecation.py:87: FutureWarning: Function get_feature_names is deprecated; get_feature_names is deprecated in 1.0 and will be removed in 1.2. Please use get_feature_names_out instead.\n",
            "  warnings.warn(msg, category=FutureWarning)\n"
          ]
        },
        {
          "output_type": "execute_result",
          "data": {
            "text/plain": [
              "   Distance  Landsize  Postcode=3000.0  Postcode=3002.0  Postcode=3003.0  \\\n",
              "0       2.5     202.0              0.0              0.0              0.0   \n",
              "1       2.5     156.0              0.0              0.0              0.0   \n",
              "2       2.5     134.0              0.0              0.0              0.0   \n",
              "3       2.5      94.0              0.0              0.0              0.0   \n",
              "4       2.5     120.0              0.0              0.0              0.0   \n",
              "\n",
              "   Postcode=3006.0  Postcode=3008.0  Postcode=3011.0  Postcode=3012.0  \\\n",
              "0              0.0              0.0              0.0              0.0   \n",
              "1              0.0              0.0              0.0              0.0   \n",
              "2              0.0              0.0              0.0              0.0   \n",
              "3              0.0              0.0              0.0              0.0   \n",
              "4              0.0              0.0              0.0              0.0   \n",
              "\n",
              "   Postcode=3013.0  ...  Suburb=Wonga Park  Suburb=Wyndham Vale  \\\n",
              "0              0.0  ...                0.0                  0.0   \n",
              "1              0.0  ...                0.0                  0.0   \n",
              "2              0.0  ...                0.0                  0.0   \n",
              "3              0.0  ...                0.0                  0.0   \n",
              "4              0.0  ...                0.0                  0.0   \n",
              "\n",
              "   Suburb=Yallambie  Suburb=Yarra Glen  Suburb=Yarraville  Type=h  Type=t  \\\n",
              "0               0.0                0.0                0.0     1.0     0.0   \n",
              "1               0.0                0.0                0.0     1.0     0.0   \n",
              "2               0.0                0.0                0.0     1.0     0.0   \n",
              "3               0.0                0.0                0.0     1.0     0.0   \n",
              "4               0.0                0.0                0.0     1.0     0.0   \n",
              "\n",
              "   Type=u  YearBuilt  BuildingArea  \n",
              "0     0.0  -0.099020     -1.896469  \n",
              "1     0.0  -0.134881     -1.735488  \n",
              "2     0.0  -0.003637     -1.735488  \n",
              "3     0.0  -0.066117     -0.587157  \n",
              "4     0.0  -0.018425      1.323150  \n",
              "\n",
              "[5 rows x 522 columns]"
            ],
            "text/html": [
              "\n",
              "  <div id=\"df-ea4fbcd5-c32b-4f51-9ac0-57961b8a7592\">\n",
              "    <div class=\"colab-df-container\">\n",
              "      <div>\n",
              "<style scoped>\n",
              "    .dataframe tbody tr th:only-of-type {\n",
              "        vertical-align: middle;\n",
              "    }\n",
              "\n",
              "    .dataframe tbody tr th {\n",
              "        vertical-align: top;\n",
              "    }\n",
              "\n",
              "    .dataframe thead th {\n",
              "        text-align: right;\n",
              "    }\n",
              "</style>\n",
              "<table border=\"1\" class=\"dataframe\">\n",
              "  <thead>\n",
              "    <tr style=\"text-align: right;\">\n",
              "      <th></th>\n",
              "      <th>Distance</th>\n",
              "      <th>Landsize</th>\n",
              "      <th>Postcode=3000.0</th>\n",
              "      <th>Postcode=3002.0</th>\n",
              "      <th>Postcode=3003.0</th>\n",
              "      <th>Postcode=3006.0</th>\n",
              "      <th>Postcode=3008.0</th>\n",
              "      <th>Postcode=3011.0</th>\n",
              "      <th>Postcode=3012.0</th>\n",
              "      <th>Postcode=3013.0</th>\n",
              "      <th>...</th>\n",
              "      <th>Suburb=Wonga Park</th>\n",
              "      <th>Suburb=Wyndham Vale</th>\n",
              "      <th>Suburb=Yallambie</th>\n",
              "      <th>Suburb=Yarra Glen</th>\n",
              "      <th>Suburb=Yarraville</th>\n",
              "      <th>Type=h</th>\n",
              "      <th>Type=t</th>\n",
              "      <th>Type=u</th>\n",
              "      <th>YearBuilt</th>\n",
              "      <th>BuildingArea</th>\n",
              "    </tr>\n",
              "  </thead>\n",
              "  <tbody>\n",
              "    <tr>\n",
              "      <th>0</th>\n",
              "      <td>2.5</td>\n",
              "      <td>202.0</td>\n",
              "      <td>0.0</td>\n",
              "      <td>0.0</td>\n",
              "      <td>0.0</td>\n",
              "      <td>0.0</td>\n",
              "      <td>0.0</td>\n",
              "      <td>0.0</td>\n",
              "      <td>0.0</td>\n",
              "      <td>0.0</td>\n",
              "      <td>...</td>\n",
              "      <td>0.0</td>\n",
              "      <td>0.0</td>\n",
              "      <td>0.0</td>\n",
              "      <td>0.0</td>\n",
              "      <td>0.0</td>\n",
              "      <td>1.0</td>\n",
              "      <td>0.0</td>\n",
              "      <td>0.0</td>\n",
              "      <td>-0.099020</td>\n",
              "      <td>-1.896469</td>\n",
              "    </tr>\n",
              "    <tr>\n",
              "      <th>1</th>\n",
              "      <td>2.5</td>\n",
              "      <td>156.0</td>\n",
              "      <td>0.0</td>\n",
              "      <td>0.0</td>\n",
              "      <td>0.0</td>\n",
              "      <td>0.0</td>\n",
              "      <td>0.0</td>\n",
              "      <td>0.0</td>\n",
              "      <td>0.0</td>\n",
              "      <td>0.0</td>\n",
              "      <td>...</td>\n",
              "      <td>0.0</td>\n",
              "      <td>0.0</td>\n",
              "      <td>0.0</td>\n",
              "      <td>0.0</td>\n",
              "      <td>0.0</td>\n",
              "      <td>1.0</td>\n",
              "      <td>0.0</td>\n",
              "      <td>0.0</td>\n",
              "      <td>-0.134881</td>\n",
              "      <td>-1.735488</td>\n",
              "    </tr>\n",
              "    <tr>\n",
              "      <th>2</th>\n",
              "      <td>2.5</td>\n",
              "      <td>134.0</td>\n",
              "      <td>0.0</td>\n",
              "      <td>0.0</td>\n",
              "      <td>0.0</td>\n",
              "      <td>0.0</td>\n",
              "      <td>0.0</td>\n",
              "      <td>0.0</td>\n",
              "      <td>0.0</td>\n",
              "      <td>0.0</td>\n",
              "      <td>...</td>\n",
              "      <td>0.0</td>\n",
              "      <td>0.0</td>\n",
              "      <td>0.0</td>\n",
              "      <td>0.0</td>\n",
              "      <td>0.0</td>\n",
              "      <td>1.0</td>\n",
              "      <td>0.0</td>\n",
              "      <td>0.0</td>\n",
              "      <td>-0.003637</td>\n",
              "      <td>-1.735488</td>\n",
              "    </tr>\n",
              "    <tr>\n",
              "      <th>3</th>\n",
              "      <td>2.5</td>\n",
              "      <td>94.0</td>\n",
              "      <td>0.0</td>\n",
              "      <td>0.0</td>\n",
              "      <td>0.0</td>\n",
              "      <td>0.0</td>\n",
              "      <td>0.0</td>\n",
              "      <td>0.0</td>\n",
              "      <td>0.0</td>\n",
              "      <td>0.0</td>\n",
              "      <td>...</td>\n",
              "      <td>0.0</td>\n",
              "      <td>0.0</td>\n",
              "      <td>0.0</td>\n",
              "      <td>0.0</td>\n",
              "      <td>0.0</td>\n",
              "      <td>1.0</td>\n",
              "      <td>0.0</td>\n",
              "      <td>0.0</td>\n",
              "      <td>-0.066117</td>\n",
              "      <td>-0.587157</td>\n",
              "    </tr>\n",
              "    <tr>\n",
              "      <th>4</th>\n",
              "      <td>2.5</td>\n",
              "      <td>120.0</td>\n",
              "      <td>0.0</td>\n",
              "      <td>0.0</td>\n",
              "      <td>0.0</td>\n",
              "      <td>0.0</td>\n",
              "      <td>0.0</td>\n",
              "      <td>0.0</td>\n",
              "      <td>0.0</td>\n",
              "      <td>0.0</td>\n",
              "      <td>...</td>\n",
              "      <td>0.0</td>\n",
              "      <td>0.0</td>\n",
              "      <td>0.0</td>\n",
              "      <td>0.0</td>\n",
              "      <td>0.0</td>\n",
              "      <td>1.0</td>\n",
              "      <td>0.0</td>\n",
              "      <td>0.0</td>\n",
              "      <td>-0.018425</td>\n",
              "      <td>1.323150</td>\n",
              "    </tr>\n",
              "  </tbody>\n",
              "</table>\n",
              "<p>5 rows × 522 columns</p>\n",
              "</div>\n",
              "      <button class=\"colab-df-convert\" onclick=\"convertToInteractive('df-ea4fbcd5-c32b-4f51-9ac0-57961b8a7592')\"\n",
              "              title=\"Convert this dataframe to an interactive table.\"\n",
              "              style=\"display:none;\">\n",
              "        \n",
              "  <svg xmlns=\"http://www.w3.org/2000/svg\" height=\"24px\"viewBox=\"0 0 24 24\"\n",
              "       width=\"24px\">\n",
              "    <path d=\"M0 0h24v24H0V0z\" fill=\"none\"/>\n",
              "    <path d=\"M18.56 5.44l.94 2.06.94-2.06 2.06-.94-2.06-.94-.94-2.06-.94 2.06-2.06.94zm-11 1L8.5 8.5l.94-2.06 2.06-.94-2.06-.94L8.5 2.5l-.94 2.06-2.06.94zm10 10l.94 2.06.94-2.06 2.06-.94-2.06-.94-.94-2.06-.94 2.06-2.06.94z\"/><path d=\"M17.41 7.96l-1.37-1.37c-.4-.4-.92-.59-1.43-.59-.52 0-1.04.2-1.43.59L10.3 9.45l-7.72 7.72c-.78.78-.78 2.05 0 2.83L4 21.41c.39.39.9.59 1.41.59.51 0 1.02-.2 1.41-.59l7.78-7.78 2.81-2.81c.8-.78.8-2.07 0-2.86zM5.41 20L4 18.59l7.72-7.72 1.47 1.35L5.41 20z\"/>\n",
              "  </svg>\n",
              "      </button>\n",
              "      \n",
              "  <style>\n",
              "    .colab-df-container {\n",
              "      display:flex;\n",
              "      flex-wrap:wrap;\n",
              "      gap: 12px;\n",
              "    }\n",
              "\n",
              "    .colab-df-convert {\n",
              "      background-color: #E8F0FE;\n",
              "      border: none;\n",
              "      border-radius: 50%;\n",
              "      cursor: pointer;\n",
              "      display: none;\n",
              "      fill: #1967D2;\n",
              "      height: 32px;\n",
              "      padding: 0 0 0 0;\n",
              "      width: 32px;\n",
              "    }\n",
              "\n",
              "    .colab-df-convert:hover {\n",
              "      background-color: #E2EBFA;\n",
              "      box-shadow: 0px 1px 2px rgba(60, 64, 67, 0.3), 0px 1px 3px 1px rgba(60, 64, 67, 0.15);\n",
              "      fill: #174EA6;\n",
              "    }\n",
              "\n",
              "    [theme=dark] .colab-df-convert {\n",
              "      background-color: #3B4455;\n",
              "      fill: #D2E3FC;\n",
              "    }\n",
              "\n",
              "    [theme=dark] .colab-df-convert:hover {\n",
              "      background-color: #434B5C;\n",
              "      box-shadow: 0px 1px 3px 1px rgba(0, 0, 0, 0.15);\n",
              "      filter: drop-shadow(0px 1px 2px rgba(0, 0, 0, 0.3));\n",
              "      fill: #FFFFFF;\n",
              "    }\n",
              "  </style>\n",
              "\n",
              "      <script>\n",
              "        const buttonEl =\n",
              "          document.querySelector('#df-ea4fbcd5-c32b-4f51-9ac0-57961b8a7592 button.colab-df-convert');\n",
              "        buttonEl.style.display =\n",
              "          google.colab.kernel.accessAllowed ? 'block' : 'none';\n",
              "\n",
              "        async function convertToInteractive(key) {\n",
              "          const element = document.querySelector('#df-ea4fbcd5-c32b-4f51-9ac0-57961b8a7592');\n",
              "          const dataTable =\n",
              "            await google.colab.kernel.invokeFunction('convertToInteractive',\n",
              "                                                     [key], {});\n",
              "          if (!dataTable) return;\n",
              "\n",
              "          const docLinkHtml = 'Like what you see? Visit the ' +\n",
              "            '<a target=\"_blank\" href=https://colab.research.google.com/notebooks/data_table.ipynb>data table notebook</a>'\n",
              "            + ' to learn more about interactive tables.';\n",
              "          element.innerHTML = '';\n",
              "          dataTable['output_type'] = 'display_data';\n",
              "          await google.colab.output.renderOutput(dataTable, element);\n",
              "          const docLink = document.createElement('div');\n",
              "          docLink.innerHTML = docLinkHtml;\n",
              "          element.appendChild(docLink);\n",
              "        }\n",
              "      </script>\n",
              "    </div>\n",
              "  </div>\n",
              "  "
            ]
          },
          "metadata": {},
          "execution_count": 216
        }
      ]
    },
    {
      "cell_type": "code",
      "source": [
        "#Se concatenan los 2 dataframes obtenidos anteriormente.\n",
        "df_final = pd.concat([df_new2,df_new1],axis=1)\n",
        "\n",
        "#Se visualiza el resultado.\n",
        "df_final.head()"
      ],
      "metadata": {
        "colab": {
          "base_uri": "https://localhost:8080/",
          "height": 300
        },
        "id": "8wF9SiJ6zRlm",
        "outputId": "1bdf850c-d7d9-4bdc-e7dd-ffe2d8756be6"
      },
      "execution_count": null,
      "outputs": [
        {
          "output_type": "execute_result",
          "data": {
            "text/plain": [
              "   Distance  Landsize  Postcode=3000.0  Postcode=3002.0  Postcode=3003.0  \\\n",
              "0       2.5     202.0              0.0              0.0              0.0   \n",
              "1       2.5     156.0              0.0              0.0              0.0   \n",
              "2       2.5     134.0              0.0              0.0              0.0   \n",
              "3       2.5      94.0              0.0              0.0              0.0   \n",
              "4       2.5     120.0              0.0              0.0              0.0   \n",
              "\n",
              "   Postcode=3006.0  Postcode=3008.0  Postcode=3011.0  Postcode=3012.0  \\\n",
              "0              0.0              0.0              0.0              0.0   \n",
              "1              0.0              0.0              0.0              0.0   \n",
              "2              0.0              0.0              0.0              0.0   \n",
              "3              0.0              0.0              0.0              0.0   \n",
              "4              0.0              0.0              0.0              0.0   \n",
              "\n",
              "   Postcode=3013.0  ...     PCA_1     PCA_2     PCA_3     PCA_4     PCA_5  \\\n",
              "0              0.0  ... -0.369989 -0.054080 -0.140374 -0.002002 -0.062019   \n",
              "1              0.0  ... -0.367349 -0.054267 -0.139811 -0.004378 -0.062106   \n",
              "2              0.0  ... -0.380857 -0.049720 -0.141433 -0.006336 -0.058585   \n",
              "3              0.0  ... -0.376280 -0.049080 -0.140620 -0.010835 -0.058351   \n",
              "4              0.0  ... -0.389653 -0.042431 -0.142572 -0.013742 -0.053990   \n",
              "\n",
              "      PCA_6     PCA_7     PCA_8     PCA_9    PCA_10  \n",
              "0 -0.011647 -0.014005  0.020187  0.004710 -0.020775  \n",
              "1 -0.011189 -0.014747  0.018024  0.001602 -0.022638  \n",
              "2 -0.009378 -0.012126  0.018048  0.006678 -0.017683  \n",
              "3 -0.007967 -0.013075  0.013920  0.001837 -0.019905  \n",
              "4 -0.004785 -0.009754  0.013011  0.007955 -0.012842  \n",
              "\n",
              "[5 rows x 532 columns]"
            ],
            "text/html": [
              "\n",
              "  <div id=\"df-fb22ea4a-4bd5-4e71-9767-aeee70ac1044\">\n",
              "    <div class=\"colab-df-container\">\n",
              "      <div>\n",
              "<style scoped>\n",
              "    .dataframe tbody tr th:only-of-type {\n",
              "        vertical-align: middle;\n",
              "    }\n",
              "\n",
              "    .dataframe tbody tr th {\n",
              "        vertical-align: top;\n",
              "    }\n",
              "\n",
              "    .dataframe thead th {\n",
              "        text-align: right;\n",
              "    }\n",
              "</style>\n",
              "<table border=\"1\" class=\"dataframe\">\n",
              "  <thead>\n",
              "    <tr style=\"text-align: right;\">\n",
              "      <th></th>\n",
              "      <th>Distance</th>\n",
              "      <th>Landsize</th>\n",
              "      <th>Postcode=3000.0</th>\n",
              "      <th>Postcode=3002.0</th>\n",
              "      <th>Postcode=3003.0</th>\n",
              "      <th>Postcode=3006.0</th>\n",
              "      <th>Postcode=3008.0</th>\n",
              "      <th>Postcode=3011.0</th>\n",
              "      <th>Postcode=3012.0</th>\n",
              "      <th>Postcode=3013.0</th>\n",
              "      <th>...</th>\n",
              "      <th>PCA_1</th>\n",
              "      <th>PCA_2</th>\n",
              "      <th>PCA_3</th>\n",
              "      <th>PCA_4</th>\n",
              "      <th>PCA_5</th>\n",
              "      <th>PCA_6</th>\n",
              "      <th>PCA_7</th>\n",
              "      <th>PCA_8</th>\n",
              "      <th>PCA_9</th>\n",
              "      <th>PCA_10</th>\n",
              "    </tr>\n",
              "  </thead>\n",
              "  <tbody>\n",
              "    <tr>\n",
              "      <th>0</th>\n",
              "      <td>2.5</td>\n",
              "      <td>202.0</td>\n",
              "      <td>0.0</td>\n",
              "      <td>0.0</td>\n",
              "      <td>0.0</td>\n",
              "      <td>0.0</td>\n",
              "      <td>0.0</td>\n",
              "      <td>0.0</td>\n",
              "      <td>0.0</td>\n",
              "      <td>0.0</td>\n",
              "      <td>...</td>\n",
              "      <td>-0.369989</td>\n",
              "      <td>-0.054080</td>\n",
              "      <td>-0.140374</td>\n",
              "      <td>-0.002002</td>\n",
              "      <td>-0.062019</td>\n",
              "      <td>-0.011647</td>\n",
              "      <td>-0.014005</td>\n",
              "      <td>0.020187</td>\n",
              "      <td>0.004710</td>\n",
              "      <td>-0.020775</td>\n",
              "    </tr>\n",
              "    <tr>\n",
              "      <th>1</th>\n",
              "      <td>2.5</td>\n",
              "      <td>156.0</td>\n",
              "      <td>0.0</td>\n",
              "      <td>0.0</td>\n",
              "      <td>0.0</td>\n",
              "      <td>0.0</td>\n",
              "      <td>0.0</td>\n",
              "      <td>0.0</td>\n",
              "      <td>0.0</td>\n",
              "      <td>0.0</td>\n",
              "      <td>...</td>\n",
              "      <td>-0.367349</td>\n",
              "      <td>-0.054267</td>\n",
              "      <td>-0.139811</td>\n",
              "      <td>-0.004378</td>\n",
              "      <td>-0.062106</td>\n",
              "      <td>-0.011189</td>\n",
              "      <td>-0.014747</td>\n",
              "      <td>0.018024</td>\n",
              "      <td>0.001602</td>\n",
              "      <td>-0.022638</td>\n",
              "    </tr>\n",
              "    <tr>\n",
              "      <th>2</th>\n",
              "      <td>2.5</td>\n",
              "      <td>134.0</td>\n",
              "      <td>0.0</td>\n",
              "      <td>0.0</td>\n",
              "      <td>0.0</td>\n",
              "      <td>0.0</td>\n",
              "      <td>0.0</td>\n",
              "      <td>0.0</td>\n",
              "      <td>0.0</td>\n",
              "      <td>0.0</td>\n",
              "      <td>...</td>\n",
              "      <td>-0.380857</td>\n",
              "      <td>-0.049720</td>\n",
              "      <td>-0.141433</td>\n",
              "      <td>-0.006336</td>\n",
              "      <td>-0.058585</td>\n",
              "      <td>-0.009378</td>\n",
              "      <td>-0.012126</td>\n",
              "      <td>0.018048</td>\n",
              "      <td>0.006678</td>\n",
              "      <td>-0.017683</td>\n",
              "    </tr>\n",
              "    <tr>\n",
              "      <th>3</th>\n",
              "      <td>2.5</td>\n",
              "      <td>94.0</td>\n",
              "      <td>0.0</td>\n",
              "      <td>0.0</td>\n",
              "      <td>0.0</td>\n",
              "      <td>0.0</td>\n",
              "      <td>0.0</td>\n",
              "      <td>0.0</td>\n",
              "      <td>0.0</td>\n",
              "      <td>0.0</td>\n",
              "      <td>...</td>\n",
              "      <td>-0.376280</td>\n",
              "      <td>-0.049080</td>\n",
              "      <td>-0.140620</td>\n",
              "      <td>-0.010835</td>\n",
              "      <td>-0.058351</td>\n",
              "      <td>-0.007967</td>\n",
              "      <td>-0.013075</td>\n",
              "      <td>0.013920</td>\n",
              "      <td>0.001837</td>\n",
              "      <td>-0.019905</td>\n",
              "    </tr>\n",
              "    <tr>\n",
              "      <th>4</th>\n",
              "      <td>2.5</td>\n",
              "      <td>120.0</td>\n",
              "      <td>0.0</td>\n",
              "      <td>0.0</td>\n",
              "      <td>0.0</td>\n",
              "      <td>0.0</td>\n",
              "      <td>0.0</td>\n",
              "      <td>0.0</td>\n",
              "      <td>0.0</td>\n",
              "      <td>0.0</td>\n",
              "      <td>...</td>\n",
              "      <td>-0.389653</td>\n",
              "      <td>-0.042431</td>\n",
              "      <td>-0.142572</td>\n",
              "      <td>-0.013742</td>\n",
              "      <td>-0.053990</td>\n",
              "      <td>-0.004785</td>\n",
              "      <td>-0.009754</td>\n",
              "      <td>0.013011</td>\n",
              "      <td>0.007955</td>\n",
              "      <td>-0.012842</td>\n",
              "    </tr>\n",
              "  </tbody>\n",
              "</table>\n",
              "<p>5 rows × 532 columns</p>\n",
              "</div>\n",
              "      <button class=\"colab-df-convert\" onclick=\"convertToInteractive('df-fb22ea4a-4bd5-4e71-9767-aeee70ac1044')\"\n",
              "              title=\"Convert this dataframe to an interactive table.\"\n",
              "              style=\"display:none;\">\n",
              "        \n",
              "  <svg xmlns=\"http://www.w3.org/2000/svg\" height=\"24px\"viewBox=\"0 0 24 24\"\n",
              "       width=\"24px\">\n",
              "    <path d=\"M0 0h24v24H0V0z\" fill=\"none\"/>\n",
              "    <path d=\"M18.56 5.44l.94 2.06.94-2.06 2.06-.94-2.06-.94-.94-2.06-.94 2.06-2.06.94zm-11 1L8.5 8.5l.94-2.06 2.06-.94-2.06-.94L8.5 2.5l-.94 2.06-2.06.94zm10 10l.94 2.06.94-2.06 2.06-.94-2.06-.94-.94-2.06-.94 2.06-2.06.94z\"/><path d=\"M17.41 7.96l-1.37-1.37c-.4-.4-.92-.59-1.43-.59-.52 0-1.04.2-1.43.59L10.3 9.45l-7.72 7.72c-.78.78-.78 2.05 0 2.83L4 21.41c.39.39.9.59 1.41.59.51 0 1.02-.2 1.41-.59l7.78-7.78 2.81-2.81c.8-.78.8-2.07 0-2.86zM5.41 20L4 18.59l7.72-7.72 1.47 1.35L5.41 20z\"/>\n",
              "  </svg>\n",
              "      </button>\n",
              "      \n",
              "  <style>\n",
              "    .colab-df-container {\n",
              "      display:flex;\n",
              "      flex-wrap:wrap;\n",
              "      gap: 12px;\n",
              "    }\n",
              "\n",
              "    .colab-df-convert {\n",
              "      background-color: #E8F0FE;\n",
              "      border: none;\n",
              "      border-radius: 50%;\n",
              "      cursor: pointer;\n",
              "      display: none;\n",
              "      fill: #1967D2;\n",
              "      height: 32px;\n",
              "      padding: 0 0 0 0;\n",
              "      width: 32px;\n",
              "    }\n",
              "\n",
              "    .colab-df-convert:hover {\n",
              "      background-color: #E2EBFA;\n",
              "      box-shadow: 0px 1px 2px rgba(60, 64, 67, 0.3), 0px 1px 3px 1px rgba(60, 64, 67, 0.15);\n",
              "      fill: #174EA6;\n",
              "    }\n",
              "\n",
              "    [theme=dark] .colab-df-convert {\n",
              "      background-color: #3B4455;\n",
              "      fill: #D2E3FC;\n",
              "    }\n",
              "\n",
              "    [theme=dark] .colab-df-convert:hover {\n",
              "      background-color: #434B5C;\n",
              "      box-shadow: 0px 1px 3px 1px rgba(0, 0, 0, 0.15);\n",
              "      filter: drop-shadow(0px 1px 2px rgba(0, 0, 0, 0.3));\n",
              "      fill: #FFFFFF;\n",
              "    }\n",
              "  </style>\n",
              "\n",
              "      <script>\n",
              "        const buttonEl =\n",
              "          document.querySelector('#df-fb22ea4a-4bd5-4e71-9767-aeee70ac1044 button.colab-df-convert');\n",
              "        buttonEl.style.display =\n",
              "          google.colab.kernel.accessAllowed ? 'block' : 'none';\n",
              "\n",
              "        async function convertToInteractive(key) {\n",
              "          const element = document.querySelector('#df-fb22ea4a-4bd5-4e71-9767-aeee70ac1044');\n",
              "          const dataTable =\n",
              "            await google.colab.kernel.invokeFunction('convertToInteractive',\n",
              "                                                     [key], {});\n",
              "          if (!dataTable) return;\n",
              "\n",
              "          const docLinkHtml = 'Like what you see? Visit the ' +\n",
              "            '<a target=\"_blank\" href=https://colab.research.google.com/notebooks/data_table.ipynb>data table notebook</a>'\n",
              "            + ' to learn more about interactive tables.';\n",
              "          element.innerHTML = '';\n",
              "          dataTable['output_type'] = 'display_data';\n",
              "          await google.colab.output.renderOutput(dataTable, element);\n",
              "          const docLink = document.createElement('div');\n",
              "          docLink.innerHTML = docLinkHtml;\n",
              "          element.appendChild(docLink);\n",
              "        }\n",
              "      </script>\n",
              "    </div>\n",
              "  </div>\n",
              "  "
            ]
          },
          "metadata": {},
          "execution_count": 217
        }
      ]
    },
    {
      "cell_type": "code",
      "source": [
        "#Se convierte el dataframe en un csv:\n",
        "\n",
        "df_final.to_csv('dataframe_final.csv', index = False)\n",
        "\n",
        "# Se descarga el archivo:\n",
        "\n",
        "from google.colab import files\n",
        "\n",
        "files.download('dataframe_final.csv')"
      ],
      "metadata": {
        "colab": {
          "base_uri": "https://localhost:8080/",
          "height": 17
        },
        "id": "WY8N_n-gyk6A",
        "outputId": "0de0640d-75b7-4015-b4c7-cbd0c8dd0d15"
      },
      "execution_count": null,
      "outputs": [
        {
          "output_type": "display_data",
          "data": {
            "text/plain": [
              "<IPython.core.display.Javascript object>"
            ],
            "application/javascript": [
              "\n",
              "    async function download(id, filename, size) {\n",
              "      if (!google.colab.kernel.accessAllowed) {\n",
              "        return;\n",
              "      }\n",
              "      const div = document.createElement('div');\n",
              "      const label = document.createElement('label');\n",
              "      label.textContent = `Downloading \"${filename}\": `;\n",
              "      div.appendChild(label);\n",
              "      const progress = document.createElement('progress');\n",
              "      progress.max = size;\n",
              "      div.appendChild(progress);\n",
              "      document.body.appendChild(div);\n",
              "\n",
              "      const buffers = [];\n",
              "      let downloaded = 0;\n",
              "\n",
              "      const channel = await google.colab.kernel.comms.open(id);\n",
              "      // Send a message to notify the kernel that we're ready.\n",
              "      channel.send({})\n",
              "\n",
              "      for await (const message of channel.messages) {\n",
              "        // Send a message to notify the kernel that we're ready.\n",
              "        channel.send({})\n",
              "        if (message.buffers) {\n",
              "          for (const buffer of message.buffers) {\n",
              "            buffers.push(buffer);\n",
              "            downloaded += buffer.byteLength;\n",
              "            progress.value = downloaded;\n",
              "          }\n",
              "        }\n",
              "      }\n",
              "      const blob = new Blob(buffers, {type: 'application/binary'});\n",
              "      const a = document.createElement('a');\n",
              "      a.href = window.URL.createObjectURL(blob);\n",
              "      a.download = filename;\n",
              "      div.appendChild(a);\n",
              "      a.click();\n",
              "      div.remove();\n",
              "    }\n",
              "  "
            ]
          },
          "metadata": {}
        },
        {
          "output_type": "display_data",
          "data": {
            "text/plain": [
              "<IPython.core.display.Javascript object>"
            ],
            "application/javascript": [
              "download(\"download_ce222179-3a76-4e9b-9409-b431e1be7518\", \"dataframe_final.csv\", 31782013)"
            ]
          },
          "metadata": {}
        }
      ]
    },
    {
      "cell_type": "markdown",
      "metadata": {
        "id": "mVBLFc8PhRtW"
      },
      "source": [
        "## Ejercicio 5: Documentación\n",
        "\n",
        "En un documento `.pdf` o `.md` realizar un reporte de las operaciones que realizaron para obtener el conjunto de datos final. Se debe incluir:\n",
        "  1. Criterios de exclusión (o inclusión) de filas\n",
        "  2. Interpretación de las columnas presentes\n",
        "  2. Todas las transformaciones realizadas\n",
        "\n",
        "Este documento es de uso técnico exclusivamente, y su objetivo es permitir que otres desarrolladores puedan reproducir los mismos pasos y obtener el mismo resultado. Debe ser detallado pero consiso. Por ejemplo:\n",
        "\n",
        "```\n",
        "  ## Criterios de exclusión de ejemplos\n",
        "  1. Se eliminan ejemplos donde el año de construcción es previo a 1900\n",
        "\n",
        "  ## Características seleccionadas\n",
        "  ### Características categóricas\n",
        "  1. Type: tipo de propiedad. 3 valores posibles\n",
        "  2. ...\n",
        "  Todas las características categóricas fueron codificadas con un\n",
        "  método OneHotEncoding utilizando como máximo sus 30 valores más \n",
        "  frecuentes.\n",
        "  \n",
        "  ### Características numéricas\n",
        "  1. Rooms: Cantidad de habitaciones\n",
        "  2. Distance: Distancia al centro de la ciudad.\n",
        "  3. airbnb_mean_price: Se agrega el precio promedio diario de \n",
        "     publicaciones de la plataforma AirBnB en el mismo código \n",
        "     postal. [Link al repositorio con datos externos].\n",
        "\n",
        "  ### Transformaciones:\n",
        "  1. Todas las características numéricas fueron estandarizadas.\n",
        "  2. La columna `Suburb` fue imputada utilizando el método ...\n",
        "  3. Las columnas `YearBuilt` y ... fueron imputadas utilizando el \n",
        "     algoritmo ...\n",
        "  4. ...\n",
        "\n",
        "  ### Datos aumentados\n",
        "  1. Se agregan las 5 primeras columnas obtenidas a través del\n",
        "     método de PCA, aplicado sobre el conjunto de datos\n",
        "     totalmente procesado.\n",
        "```\n"
      ]
    }
  ]
}